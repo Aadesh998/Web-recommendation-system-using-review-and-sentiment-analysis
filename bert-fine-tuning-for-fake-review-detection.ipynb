{
 "cells": [
  {
   "cell_type": "markdown",
   "id": "3cb24fe2",
   "metadata": {
    "papermill": {
     "duration": 0.006814,
     "end_time": "2025-03-14T19:25:09.009655",
     "exception": false,
     "start_time": "2025-03-14T19:25:09.002841",
     "status": "completed"
    },
    "tags": []
   },
   "source": [
    "### Importing Library\n",
    "\n",
    "imports essential libraries for data processing, visualization, machine learning, and deep learning tasks."
   ]
  },
  {
   "cell_type": "code",
   "execution_count": 1,
   "id": "fdd8c431",
   "metadata": {
    "_cell_guid": "b1076dfc-b9ad-4769-8c92-a6c4dae69d19",
    "_uuid": "8f2839f25d086af736a60e9eeb907d3b93b6e0e5",
    "execution": {
     "iopub.execute_input": "2025-03-14T19:25:09.023839Z",
     "iopub.status.busy": "2025-03-14T19:25:09.023553Z",
     "iopub.status.idle": "2025-03-14T19:25:14.261343Z",
     "shell.execute_reply": "2025-03-14T19:25:14.260673Z"
    },
    "papermill": {
     "duration": 5.246172,
     "end_time": "2025-03-14T19:25:14.262934",
     "exception": false,
     "start_time": "2025-03-14T19:25:09.016762",
     "status": "completed"
    },
    "tags": []
   },
   "outputs": [],
   "source": [
    "import pandas as pd\n",
    "import numpy as np \n",
    "import matplotlib.pyplot as plt\n",
    "import seaborn as sns \n",
    "import json, re\n",
    "from tqdm import tqdm_notebook\n",
    "from uuid import uuid4\n",
    "\n",
    "## Torch Modules\n",
    "import torch\n",
    "import torch.optim as optim\n",
    "import torch.nn as nn\n",
    "import torch.nn.functional as F\n",
    "from torch.autograd import Variable\n",
    "from torch.utils.data import Dataset, DataLoader"
   ]
  },
  {
   "cell_type": "markdown",
   "id": "cf83882d",
   "metadata": {
    "papermill": {
     "duration": 0.005995,
     "end_time": "2025-03-14T19:25:14.275493",
     "exception": false,
     "start_time": "2025-03-14T19:25:14.269498",
     "status": "completed"
    },
    "tags": []
   },
   "source": [
    "### Loading and Inspecting the Dataset\n",
    "\n",
    "loads a CSV file containing the fake reviews dataset and displays the first few rows of the data.\n",
    "\n"
   ]
  },
  {
   "cell_type": "code",
   "execution_count": 2,
   "id": "1d8f67ce",
   "metadata": {
    "execution": {
     "iopub.execute_input": "2025-03-14T19:25:14.288395Z",
     "iopub.status.busy": "2025-03-14T19:25:14.288024Z",
     "iopub.status.idle": "2025-03-14T19:25:14.628236Z",
     "shell.execute_reply": "2025-03-14T19:25:14.627296Z"
    },
    "papermill": {
     "duration": 0.348262,
     "end_time": "2025-03-14T19:25:14.629791",
     "exception": false,
     "start_time": "2025-03-14T19:25:14.281529",
     "status": "completed"
    },
    "tags": []
   },
   "outputs": [
    {
     "data": {
      "text/html": [
       "<div>\n",
       "<style scoped>\n",
       "    .dataframe tbody tr th:only-of-type {\n",
       "        vertical-align: middle;\n",
       "    }\n",
       "\n",
       "    .dataframe tbody tr th {\n",
       "        vertical-align: top;\n",
       "    }\n",
       "\n",
       "    .dataframe thead th {\n",
       "        text-align: right;\n",
       "    }\n",
       "</style>\n",
       "<table border=\"1\" class=\"dataframe\">\n",
       "  <thead>\n",
       "    <tr style=\"text-align: right;\">\n",
       "      <th></th>\n",
       "      <th>category</th>\n",
       "      <th>rating</th>\n",
       "      <th>label</th>\n",
       "      <th>text_</th>\n",
       "    </tr>\n",
       "  </thead>\n",
       "  <tbody>\n",
       "    <tr>\n",
       "      <th>0</th>\n",
       "      <td>Home_and_Kitchen_5</td>\n",
       "      <td>5.0</td>\n",
       "      <td>CG</td>\n",
       "      <td>Love this!  Well made, sturdy, and very comfor...</td>\n",
       "    </tr>\n",
       "    <tr>\n",
       "      <th>1</th>\n",
       "      <td>Home_and_Kitchen_5</td>\n",
       "      <td>5.0</td>\n",
       "      <td>CG</td>\n",
       "      <td>love it, a great upgrade from the original.  I...</td>\n",
       "    </tr>\n",
       "    <tr>\n",
       "      <th>2</th>\n",
       "      <td>Home_and_Kitchen_5</td>\n",
       "      <td>5.0</td>\n",
       "      <td>CG</td>\n",
       "      <td>This pillow saved my back. I love the look and...</td>\n",
       "    </tr>\n",
       "    <tr>\n",
       "      <th>3</th>\n",
       "      <td>Home_and_Kitchen_5</td>\n",
       "      <td>1.0</td>\n",
       "      <td>CG</td>\n",
       "      <td>Missing information on how to use it, but it i...</td>\n",
       "    </tr>\n",
       "    <tr>\n",
       "      <th>4</th>\n",
       "      <td>Home_and_Kitchen_5</td>\n",
       "      <td>5.0</td>\n",
       "      <td>CG</td>\n",
       "      <td>Very nice set. Good quality. We have had the s...</td>\n",
       "    </tr>\n",
       "  </tbody>\n",
       "</table>\n",
       "</div>"
      ],
      "text/plain": [
       "             category  rating label  \\\n",
       "0  Home_and_Kitchen_5     5.0    CG   \n",
       "1  Home_and_Kitchen_5     5.0    CG   \n",
       "2  Home_and_Kitchen_5     5.0    CG   \n",
       "3  Home_and_Kitchen_5     1.0    CG   \n",
       "4  Home_and_Kitchen_5     5.0    CG   \n",
       "\n",
       "                                               text_  \n",
       "0  Love this!  Well made, sturdy, and very comfor...  \n",
       "1  love it, a great upgrade from the original.  I...  \n",
       "2  This pillow saved my back. I love the look and...  \n",
       "3  Missing information on how to use it, but it i...  \n",
       "4  Very nice set. Good quality. We have had the s...  "
      ]
     },
     "execution_count": 2,
     "metadata": {},
     "output_type": "execute_result"
    }
   ],
   "source": [
    "data = pd.read_csv('/kaggle/input/fake-reviews-dataset/fake reviews dataset.csv')\n",
    "\n",
    "data.head()"
   ]
  },
  {
   "cell_type": "code",
   "execution_count": 3,
   "id": "c78871c0",
   "metadata": {
    "execution": {
     "iopub.execute_input": "2025-03-14T19:25:14.643409Z",
     "iopub.status.busy": "2025-03-14T19:25:14.643182Z",
     "iopub.status.idle": "2025-03-14T19:25:14.647188Z",
     "shell.execute_reply": "2025-03-14T19:25:14.646522Z"
    },
    "papermill": {
     "duration": 0.011838,
     "end_time": "2025-03-14T19:25:14.648296",
     "exception": false,
     "start_time": "2025-03-14T19:25:14.636458",
     "status": "completed"
    },
    "tags": []
   },
   "outputs": [
    {
     "name": "stdout",
     "output_type": "stream",
     "text": [
      "The shape of the data: (40432, 4)\n"
     ]
    }
   ],
   "source": [
    "print(f\"The shape of the data: {data.shape }\")"
   ]
  },
  {
   "cell_type": "code",
   "execution_count": 4,
   "id": "eeb313cf",
   "metadata": {
    "execution": {
     "iopub.execute_input": "2025-03-14T19:25:14.661529Z",
     "iopub.status.busy": "2025-03-14T19:25:14.661263Z",
     "iopub.status.idle": "2025-03-14T19:25:14.674674Z",
     "shell.execute_reply": "2025-03-14T19:25:14.673991Z"
    },
    "papermill": {
     "duration": 0.021359,
     "end_time": "2025-03-14T19:25:14.675942",
     "exception": false,
     "start_time": "2025-03-14T19:25:14.654583",
     "status": "completed"
    },
    "tags": []
   },
   "outputs": [
    {
     "data": {
      "text/html": [
       "<div>\n",
       "<style scoped>\n",
       "    .dataframe tbody tr th:only-of-type {\n",
       "        vertical-align: middle;\n",
       "    }\n",
       "\n",
       "    .dataframe tbody tr th {\n",
       "        vertical-align: top;\n",
       "    }\n",
       "\n",
       "    .dataframe thead th {\n",
       "        text-align: right;\n",
       "    }\n",
       "</style>\n",
       "<table border=\"1\" class=\"dataframe\">\n",
       "  <thead>\n",
       "    <tr style=\"text-align: right;\">\n",
       "      <th></th>\n",
       "      <th>category</th>\n",
       "      <th>count</th>\n",
       "    </tr>\n",
       "  </thead>\n",
       "  <tbody>\n",
       "    <tr>\n",
       "      <th>0</th>\n",
       "      <td>Kindle_Store_5</td>\n",
       "      <td>4730</td>\n",
       "    </tr>\n",
       "    <tr>\n",
       "      <th>1</th>\n",
       "      <td>Books_5</td>\n",
       "      <td>4370</td>\n",
       "    </tr>\n",
       "    <tr>\n",
       "      <th>2</th>\n",
       "      <td>Pet_Supplies_5</td>\n",
       "      <td>4254</td>\n",
       "    </tr>\n",
       "    <tr>\n",
       "      <th>3</th>\n",
       "      <td>Home_and_Kitchen_5</td>\n",
       "      <td>4056</td>\n",
       "    </tr>\n",
       "    <tr>\n",
       "      <th>4</th>\n",
       "      <td>Electronics_5</td>\n",
       "      <td>3988</td>\n",
       "    </tr>\n",
       "    <tr>\n",
       "      <th>5</th>\n",
       "      <td>Sports_and_Outdoors_5</td>\n",
       "      <td>3946</td>\n",
       "    </tr>\n",
       "    <tr>\n",
       "      <th>6</th>\n",
       "      <td>Tools_and_Home_Improvement_5</td>\n",
       "      <td>3858</td>\n",
       "    </tr>\n",
       "    <tr>\n",
       "      <th>7</th>\n",
       "      <td>Clothing_Shoes_and_Jewelry_5</td>\n",
       "      <td>3848</td>\n",
       "    </tr>\n",
       "    <tr>\n",
       "      <th>8</th>\n",
       "      <td>Toys_and_Games_5</td>\n",
       "      <td>3794</td>\n",
       "    </tr>\n",
       "    <tr>\n",
       "      <th>9</th>\n",
       "      <td>Movies_and_TV_5</td>\n",
       "      <td>3588</td>\n",
       "    </tr>\n",
       "  </tbody>\n",
       "</table>\n",
       "</div>"
      ],
      "text/plain": [
       "                       category  count\n",
       "0                Kindle_Store_5   4730\n",
       "1                       Books_5   4370\n",
       "2                Pet_Supplies_5   4254\n",
       "3            Home_and_Kitchen_5   4056\n",
       "4                 Electronics_5   3988\n",
       "5         Sports_and_Outdoors_5   3946\n",
       "6  Tools_and_Home_Improvement_5   3858\n",
       "7  Clothing_Shoes_and_Jewelry_5   3848\n",
       "8              Toys_and_Games_5   3794\n",
       "9               Movies_and_TV_5   3588"
      ]
     },
     "execution_count": 4,
     "metadata": {},
     "output_type": "execute_result"
    }
   ],
   "source": [
    "data['category'].value_counts().reset_index()"
   ]
  },
  {
   "cell_type": "code",
   "execution_count": 5,
   "id": "343155ee",
   "metadata": {
    "execution": {
     "iopub.execute_input": "2025-03-14T19:25:14.689539Z",
     "iopub.status.busy": "2025-03-14T19:25:14.689300Z",
     "iopub.status.idle": "2025-03-14T19:25:14.923792Z",
     "shell.execute_reply": "2025-03-14T19:25:14.922994Z"
    },
    "papermill": {
     "duration": 0.242757,
     "end_time": "2025-03-14T19:25:14.925080",
     "exception": false,
     "start_time": "2025-03-14T19:25:14.682323",
     "status": "completed"
    },
    "tags": []
   },
   "outputs": [
    {
     "data": {
      "text/plain": [
       "<Axes: xlabel='label', ylabel='count'>"
      ]
     },
     "execution_count": 5,
     "metadata": {},
     "output_type": "execute_result"
    },
    {
     "data": {
      "image/png": "[encoded data removed]",
      "text/plain": [
       "<Figure size 640x480 with 1 Axes>"
      ]
     },
     "metadata": {},
     "output_type": "display_data"
    }
   ],
   "source": [
    "sns.countplot(x='label', data=data)"
   ]
  },
  {
   "cell_type": "code",
   "execution_count": 6,
   "id": "608de73a",
   "metadata": {
    "execution": {
     "iopub.execute_input": "2025-03-14T19:25:14.939768Z",
     "iopub.status.busy": "2025-03-14T19:25:14.939547Z",
     "iopub.status.idle": "2025-03-14T19:25:14.945112Z",
     "shell.execute_reply": "2025-03-14T19:25:14.944488Z"
    },
    "papermill": {
     "duration": 0.014114,
     "end_time": "2025-03-14T19:25:14.946267",
     "exception": false,
     "start_time": "2025-03-14T19:25:14.932153",
     "status": "completed"
    },
    "tags": []
   },
   "outputs": [],
   "source": [
    "data.drop(columns=['category', 'rating'], inplace= True)"
   ]
  },
  {
   "cell_type": "code",
   "execution_count": 7,
   "id": "fc31c456",
   "metadata": {
    "execution": {
     "iopub.execute_input": "2025-03-14T19:25:14.960285Z",
     "iopub.status.busy": "2025-03-14T19:25:14.960086Z",
     "iopub.status.idle": "2025-03-14T19:25:14.966468Z",
     "shell.execute_reply": "2025-03-14T19:25:14.965836Z"
    },
    "papermill": {
     "duration": 0.014827,
     "end_time": "2025-03-14T19:25:14.967803",
     "exception": false,
     "start_time": "2025-03-14T19:25:14.952976",
     "status": "completed"
    },
    "tags": []
   },
   "outputs": [
    {
     "data": {
      "text/html": [
       "<div>\n",
       "<style scoped>\n",
       "    .dataframe tbody tr th:only-of-type {\n",
       "        vertical-align: middle;\n",
       "    }\n",
       "\n",
       "    .dataframe tbody tr th {\n",
       "        vertical-align: top;\n",
       "    }\n",
       "\n",
       "    .dataframe thead th {\n",
       "        text-align: right;\n",
       "    }\n",
       "</style>\n",
       "<table border=\"1\" class=\"dataframe\">\n",
       "  <thead>\n",
       "    <tr style=\"text-align: right;\">\n",
       "      <th></th>\n",
       "      <th>label</th>\n",
       "      <th>text_</th>\n",
       "    </tr>\n",
       "  </thead>\n",
       "  <tbody>\n",
       "    <tr>\n",
       "      <th>0</th>\n",
       "      <td>CG</td>\n",
       "      <td>Love this!  Well made, sturdy, and very comfor...</td>\n",
       "    </tr>\n",
       "    <tr>\n",
       "      <th>1</th>\n",
       "      <td>CG</td>\n",
       "      <td>love it, a great upgrade from the original.  I...</td>\n",
       "    </tr>\n",
       "    <tr>\n",
       "      <th>2</th>\n",
       "      <td>CG</td>\n",
       "      <td>This pillow saved my back. I love the look and...</td>\n",
       "    </tr>\n",
       "    <tr>\n",
       "      <th>3</th>\n",
       "      <td>CG</td>\n",
       "      <td>Missing information on how to use it, but it i...</td>\n",
       "    </tr>\n",
       "    <tr>\n",
       "      <th>4</th>\n",
       "      <td>CG</td>\n",
       "      <td>Very nice set. Good quality. We have had the s...</td>\n",
       "    </tr>\n",
       "  </tbody>\n",
       "</table>\n",
       "</div>"
      ],
      "text/plain": [
       "  label                                              text_\n",
       "0    CG  Love this!  Well made, sturdy, and very comfor...\n",
       "1    CG  love it, a great upgrade from the original.  I...\n",
       "2    CG  This pillow saved my back. I love the look and...\n",
       "3    CG  Missing information on how to use it, but it i...\n",
       "4    CG  Very nice set. Good quality. We have had the s..."
      ]
     },
     "execution_count": 7,
     "metadata": {},
     "output_type": "execute_result"
    }
   ],
   "source": [
    "data.head()"
   ]
  },
  {
   "cell_type": "code",
   "execution_count": 8,
   "id": "b838689d",
   "metadata": {
    "execution": {
     "iopub.execute_input": "2025-03-14T19:25:14.982310Z",
     "iopub.status.busy": "2025-03-14T19:25:14.982106Z",
     "iopub.status.idle": "2025-03-14T19:25:14.991464Z",
     "shell.execute_reply": "2025-03-14T19:25:14.990806Z"
    },
    "papermill": {
     "duration": 0.018317,
     "end_time": "2025-03-14T19:25:14.993058",
     "exception": false,
     "start_time": "2025-03-14T19:25:14.974741",
     "status": "completed"
    },
    "tags": []
   },
   "outputs": [
    {
     "data": {
      "text/html": [
       "<div>\n",
       "<style scoped>\n",
       "    .dataframe tbody tr th:only-of-type {\n",
       "        vertical-align: middle;\n",
       "    }\n",
       "\n",
       "    .dataframe tbody tr th {\n",
       "        vertical-align: top;\n",
       "    }\n",
       "\n",
       "    .dataframe thead th {\n",
       "        text-align: right;\n",
       "    }\n",
       "</style>\n",
       "<table border=\"1\" class=\"dataframe\">\n",
       "  <thead>\n",
       "    <tr style=\"text-align: right;\">\n",
       "      <th></th>\n",
       "      <th>label</th>\n",
       "      <th>text_</th>\n",
       "    </tr>\n",
       "  </thead>\n",
       "  <tbody>\n",
       "    <tr>\n",
       "      <th>0</th>\n",
       "      <td>1</td>\n",
       "      <td>Love this!  Well made, sturdy, and very comfor...</td>\n",
       "    </tr>\n",
       "    <tr>\n",
       "      <th>1</th>\n",
       "      <td>1</td>\n",
       "      <td>love it, a great upgrade from the original.  I...</td>\n",
       "    </tr>\n",
       "    <tr>\n",
       "      <th>2</th>\n",
       "      <td>1</td>\n",
       "      <td>This pillow saved my back. I love the look and...</td>\n",
       "    </tr>\n",
       "    <tr>\n",
       "      <th>3</th>\n",
       "      <td>1</td>\n",
       "      <td>Missing information on how to use it, but it i...</td>\n",
       "    </tr>\n",
       "    <tr>\n",
       "      <th>4</th>\n",
       "      <td>1</td>\n",
       "      <td>Very nice set. Good quality. We have had the s...</td>\n",
       "    </tr>\n",
       "  </tbody>\n",
       "</table>\n",
       "</div>"
      ],
      "text/plain": [
       "   label                                              text_\n",
       "0      1  Love this!  Well made, sturdy, and very comfor...\n",
       "1      1  love it, a great upgrade from the original.  I...\n",
       "2      1  This pillow saved my back. I love the look and...\n",
       "3      1  Missing information on how to use it, but it i...\n",
       "4      1  Very nice set. Good quality. We have had the s..."
      ]
     },
     "execution_count": 8,
     "metadata": {},
     "output_type": "execute_result"
    }
   ],
   "source": [
    "label_map = {\n",
    "    'CG': 1,\n",
    "    'OR': 0\n",
    "}\n",
    "\n",
    "data['label'] = data['label'].map(label_map)\n",
    "data.head()"
   ]
  },
  {
   "cell_type": "code",
   "execution_count": 9,
   "id": "162621e3",
   "metadata": {
    "execution": {
     "iopub.execute_input": "2025-03-14T19:25:15.008008Z",
     "iopub.status.busy": "2025-03-14T19:25:15.007809Z",
     "iopub.status.idle": "2025-03-14T19:25:15.014264Z",
     "shell.execute_reply": "2025-03-14T19:25:15.013498Z"
    },
    "papermill": {
     "duration": 0.01508,
     "end_time": "2025-03-14T19:25:15.015456",
     "exception": false,
     "start_time": "2025-03-14T19:25:15.000376",
     "status": "completed"
    },
    "tags": []
   },
   "outputs": [
    {
     "data": {
      "text/plain": [
       "label\n",
       "1    20216\n",
       "0    20216\n",
       "Name: count, dtype: int64"
      ]
     },
     "execution_count": 9,
     "metadata": {},
     "output_type": "execute_result"
    }
   ],
   "source": [
    "data['label'].value_counts()"
   ]
  },
  {
   "cell_type": "code",
   "execution_count": 10,
   "id": "0cf57983",
   "metadata": {
    "execution": {
     "iopub.execute_input": "2025-03-14T19:25:15.030270Z",
     "iopub.status.busy": "2025-03-14T19:25:15.030067Z",
     "iopub.status.idle": "2025-03-14T19:25:15.045262Z",
     "shell.execute_reply": "2025-03-14T19:25:15.044413Z"
    },
    "papermill": {
     "duration": 0.023969,
     "end_time": "2025-03-14T19:25:15.046437",
     "exception": false,
     "start_time": "2025-03-14T19:25:15.022468",
     "status": "completed"
    },
    "tags": []
   },
   "outputs": [
    {
     "name": "stdout",
     "output_type": "stream",
     "text": [
      "<class 'pandas.core.frame.DataFrame'>\n",
      "RangeIndex: 40432 entries, 0 to 40431\n",
      "Data columns (total 2 columns):\n",
      " #   Column  Non-Null Count  Dtype \n",
      "---  ------  --------------  ----- \n",
      " 0   label   40432 non-null  int64 \n",
      " 1   text_   40432 non-null  object\n",
      "dtypes: int64(1), object(1)\n",
      "memory usage: 631.9+ KB\n"
     ]
    }
   ],
   "source": [
    "data.info()"
   ]
  },
  {
   "cell_type": "markdown",
   "id": "058a6789",
   "metadata": {
    "papermill": {
     "duration": 0.006951,
     "end_time": "2025-03-14T19:25:15.060395",
     "exception": false,
     "start_time": "2025-03-14T19:25:15.053444",
     "status": "completed"
    },
    "tags": []
   },
   "source": [
    "### Checking for GPU Availability in TensorFlow"
   ]
  },
  {
   "cell_type": "code",
   "execution_count": 11,
   "id": "0b56e14f",
   "metadata": {
    "execution": {
     "iopub.execute_input": "2025-03-14T19:25:15.075150Z",
     "iopub.status.busy": "2025-03-14T19:25:15.074950Z",
     "iopub.status.idle": "2025-03-14T19:25:26.542669Z",
     "shell.execute_reply": "2025-03-14T19:25:26.541714Z"
    },
    "papermill": {
     "duration": 11.476664,
     "end_time": "2025-03-14T19:25:26.544079",
     "exception": false,
     "start_time": "2025-03-14T19:25:15.067415",
     "status": "completed"
    },
    "tags": []
   },
   "outputs": [
    {
     "name": "stdout",
     "output_type": "stream",
     "text": [
      "Found GPU at: /device:GPU:0\n"
     ]
    }
   ],
   "source": [
    "import tensorflow as tf\n",
    "\n",
    "device_name = tf.test.gpu_device_name()\n",
    "if device_name == '/device:GPU:0':\n",
    "    print('Found GPU at: {}'.format(device_name))\n",
    "else:\n",
    "    raise SystemError('GPU device not found')"
   ]
  },
  {
   "cell_type": "markdown",
   "id": "ed501940",
   "metadata": {
    "papermill": {
     "duration": 0.006986,
     "end_time": "2025-03-14T19:25:26.559054",
     "exception": false,
     "start_time": "2025-03-14T19:25:26.552068",
     "status": "completed"
    },
    "tags": []
   },
   "source": [
    "### Checking for GPU Availability in PyTorch"
   ]
  },
  {
   "cell_type": "code",
   "execution_count": 12,
   "id": "dfe2da3d",
   "metadata": {
    "execution": {
     "iopub.execute_input": "2025-03-14T19:25:26.574393Z",
     "iopub.status.busy": "2025-03-14T19:25:26.573915Z",
     "iopub.status.idle": "2025-03-14T19:25:26.606262Z",
     "shell.execute_reply": "2025-03-14T19:25:26.605539Z"
    },
    "papermill": {
     "duration": 0.041334,
     "end_time": "2025-03-14T19:25:26.607526",
     "exception": false,
     "start_time": "2025-03-14T19:25:26.566192",
     "status": "completed"
    },
    "tags": []
   },
   "outputs": [
    {
     "name": "stdout",
     "output_type": "stream",
     "text": [
      "There are 1 GPU(s) available.\n",
      "We will use the GPU: Tesla P100-PCIE-16GB\n"
     ]
    }
   ],
   "source": [
    "import torch\n",
    "\n",
    "if torch.cuda.is_available():     \n",
    "    device = torch.device(\"cuda\")\n",
    "\n",
    "    print('There are %d GPU(s) available.' % torch.cuda.device_count())\n",
    "\n",
    "    print('We will use the GPU:', torch.cuda.get_device_name(0))\n",
    "\n",
    "else:\n",
    "    print('No GPU available, using the CPU instead.')\n",
    "    device = torch.device(\"cpu\")"
   ]
  },
  {
   "cell_type": "markdown",
   "id": "9277c69d",
   "metadata": {
    "papermill": {
     "duration": 0.007005,
     "end_time": "2025-03-14T19:25:26.621884",
     "exception": false,
     "start_time": "2025-03-14T19:25:26.614879",
     "status": "completed"
    },
    "tags": []
   },
   "source": [
    "### Loading Pretrained BERT Model for Sequence Classification\n",
    "\n",
    "* BertForSequenceClassification.from_pretrained(\"bert-base-uncased\", ...): This method loads a pre-trained BERT model with the following configurations:\n",
    "\n",
    "    * **\"bert-base-uncased\"**: The identifier for the base, uncased version of BERT.\n",
    "    * **num_labels=2:** Specifies that the model will output two labels, suitable for binary classification tasks.\n",
    "    * **output_attentions=False:** Ensures the model does not return attention weights during forward passes.\n",
    "    * **output_hidden_states=False:** Prevents the model from returning hidden states from intermediate layers.\n",
    "* BertTokenizer.from_pretrained(\"bert-base-uncased\"): Loads the corresponding tokenizer for BERT, which will convert input text into tokens that the BERT model understands."
   ]
  },
  {
   "cell_type": "code",
   "execution_count": 13,
   "id": "ccb1e031",
   "metadata": {
    "execution": {
     "iopub.execute_input": "2025-03-14T19:25:26.637113Z",
     "iopub.status.busy": "2025-03-14T19:25:26.636894Z",
     "iopub.status.idle": "2025-03-14T19:25:38.778435Z",
     "shell.execute_reply": "2025-03-14T19:25:38.777346Z"
    },
    "papermill": {
     "duration": 12.150797,
     "end_time": "2025-03-14T19:25:38.779918",
     "exception": false,
     "start_time": "2025-03-14T19:25:26.629121",
     "status": "completed"
    },
    "tags": []
   },
   "outputs": [
    {
     "data": {
      "application/vnd.jupyter.widget-view+json": {
       "model_id": "a1b808e3be544319b984cef928f4c6ac",
       "version_major": 2,
       "version_minor": 0
      },
      "text/plain": [
       "config.json:   0%|          | 0.00/570 [00:00<?, ?B/s]"
      ]
     },
     "metadata": {},
     "output_type": "display_data"
    },
    {
     "data": {
      "application/vnd.jupyter.widget-view+json": {
       "model_id": "e4f43ff0cbb84aa4b4855045c8760609",
       "version_major": 2,
       "version_minor": 0
      },
      "text/plain": [
       "model.safetensors:   0%|          | 0.00/440M [00:00<?, ?B/s]"
      ]
     },
     "metadata": {},
     "output_type": "display_data"
    },
    {
     "name": "stderr",
     "output_type": "stream",
     "text": [
      "Some weights of BertForSequenceClassification were not initialized from the model checkpoint at bert-base-uncased and are newly initialized: ['classifier.bias', 'classifier.weight']\n",
      "You should probably TRAIN this model on a down-stream task to be able to use it for predictions and inference.\n"
     ]
    },
    {
     "data": {
      "application/vnd.jupyter.widget-view+json": {
       "model_id": "4251618342a741ff804187df3a993e41",
       "version_major": 2,
       "version_minor": 0
      },
      "text/plain": [
       "tokenizer_config.json:   0%|          | 0.00/48.0 [00:00<?, ?B/s]"
      ]
     },
     "metadata": {},
     "output_type": "display_data"
    },
    {
     "data": {
      "application/vnd.jupyter.widget-view+json": {
       "model_id": "e70907fe321e460fa270b085ac0f41f6",
       "version_major": 2,
       "version_minor": 0
      },
      "text/plain": [
       "vocab.txt:   0%|          | 0.00/232k [00:00<?, ?B/s]"
      ]
     },
     "metadata": {},
     "output_type": "display_data"
    },
    {
     "data": {
      "application/vnd.jupyter.widget-view+json": {
       "model_id": "8c9d654ccce94d6299437ffe45182e34",
       "version_major": 2,
       "version_minor": 0
      },
      "text/plain": [
       "tokenizer.json:   0%|          | 0.00/466k [00:00<?, ?B/s]"
      ]
     },
     "metadata": {},
     "output_type": "display_data"
    },
    {
     "name": "stdout",
     "output_type": "stream",
     "text": [
      " Base models loaded\n"
     ]
    }
   ],
   "source": [
    "from transformers import (\n",
    "    BertForSequenceClassification,\n",
    "    BertTokenizer,\n",
    "    RobertaForSequenceClassification,\n",
    "    RobertaTokenizer, AdamW\n",
    ")\n",
    "\n",
    "# BERT\n",
    "bert_model = BertForSequenceClassification.from_pretrained(\"bert-base-uncased\", \n",
    "                                                                num_labels = 2,                             \n",
    "                                                                output_attentions = False, \n",
    "                                                                output_hidden_states = False \n",
    "                                                          )\n",
    "bert_tokenizer = BertTokenizer.from_pretrained(\"bert-base-uncased\")\n",
    "bert_model.cuda()\n",
    "\n",
    "\n",
    "print(' Base models loaded')"
   ]
  },
  {
   "cell_type": "code",
   "execution_count": 14,
   "id": "e155c166",
   "metadata": {
    "execution": {
     "iopub.execute_input": "2025-03-14T19:25:38.797536Z",
     "iopub.status.busy": "2025-03-14T19:25:38.797032Z",
     "iopub.status.idle": "2025-03-14T19:25:38.802114Z",
     "shell.execute_reply": "2025-03-14T19:25:38.801297Z"
    },
    "papermill": {
     "duration": 0.014727,
     "end_time": "2025-03-14T19:25:38.803359",
     "exception": false,
     "start_time": "2025-03-14T19:25:38.788632",
     "status": "completed"
    },
    "tags": []
   },
   "outputs": [
    {
     "data": {
      "text/plain": [
       "\"As advertised. 5th one I've had. The only problem is that it's not really a\""
      ]
     },
     "execution_count": 14,
     "metadata": {},
     "output_type": "execute_result"
    }
   ],
   "source": [
    "sentences = data['text_'].values\n",
    "labels = data['label'].values\n",
    "data['text_'][10]"
   ]
  },
  {
   "cell_type": "code",
   "execution_count": 15,
   "id": "f9b36e99",
   "metadata": {
    "execution": {
     "iopub.execute_input": "2025-03-14T19:25:38.819817Z",
     "iopub.status.busy": "2025-03-14T19:25:38.819608Z",
     "iopub.status.idle": "2025-03-14T19:25:38.825453Z",
     "shell.execute_reply": "2025-03-14T19:25:38.824811Z"
    },
    "papermill": {
     "duration": 0.015254,
     "end_time": "2025-03-14T19:25:38.826616",
     "exception": false,
     "start_time": "2025-03-14T19:25:38.811362",
     "status": "completed"
    },
    "tags": []
   },
   "outputs": [
    {
     "name": "stdout",
     "output_type": "stream",
     "text": [
      "Original:  Love this!  Well made, sturdy, and very comfortable.  I love it!Very pretty\n",
      "Tokenized BERT:  ['love', 'this', '!', 'well', 'made', ',', 'sturdy', ',', 'and', 'very', 'comfortable', '.', 'i', 'love', 'it', '!', 'very', 'pretty']\n",
      "Token IDs BERT:  [2293, 2023, 999, 2092, 2081, 1010, 23073, 1010, 1998, 2200, 6625, 1012, 1045, 2293, 2009, 999, 2200, 3492]\n"
     ]
    }
   ],
   "source": [
    "print('Original: ', sentences[0])\n",
    "print('Tokenized BERT: ', bert_tokenizer.tokenize(sentences[0]))\n",
    "print('Token IDs BERT: ', bert_tokenizer.convert_tokens_to_ids(bert_tokenizer.tokenize(sentences[0])))"
   ]
  },
  {
   "cell_type": "code",
   "execution_count": 16,
   "id": "7b7bbebc",
   "metadata": {
    "execution": {
     "iopub.execute_input": "2025-03-14T19:25:38.843049Z",
     "iopub.status.busy": "2025-03-14T19:25:38.842853Z",
     "iopub.status.idle": "2025-03-14T19:25:38.847223Z",
     "shell.execute_reply": "2025-03-14T19:25:38.846533Z"
    },
    "papermill": {
     "duration": 0.013906,
     "end_time": "2025-03-14T19:25:38.848488",
     "exception": false,
     "start_time": "2025-03-14T19:25:38.834582",
     "status": "completed"
    },
    "tags": []
   },
   "outputs": [
    {
     "name": "stdout",
     "output_type": "stream",
     "text": [
      "Will Your Hometown Be Taking In Obama’s Refugees? Here’s The List Of Cities Where They’re Being Transplanted 🏙️\n",
      "BERT: ['will', 'your', 'hometown', 'be', 'taking', 'in', 'obama', '’', 's', 'refugees', '?', 'here', '’', 's', 'the', 'list', 'of', 'cities', 'where', 'they', '’', 're', 'being', 'transplant', '##ed', '[UNK]']\n"
     ]
    }
   ],
   "source": [
    "sequence = \"\"\"Will Your Hometown Be Taking In Obama’s Refugees? Here’s The List Of Cities Where They’re Being Transplanted 🏙️\"\"\"\n",
    "\n",
    "bert_tokenized_sequence = bert_tokenizer.tokenize(sequence)\n",
    "\n",
    "print(\"\"\"Will Your Hometown Be Taking In Obama’s Refugees? Here’s The List Of Cities Where They’re Being Transplanted 🏙️\"\"\")\n",
    "print(\"BERT:\", bert_tokenized_sequence)"
   ]
  },
  {
   "cell_type": "markdown",
   "id": "5918961e",
   "metadata": {
    "papermill": {
     "duration": 0.007835,
     "end_time": "2025-03-14T19:25:38.864838",
     "exception": false,
     "start_time": "2025-03-14T19:25:38.857003",
     "status": "completed"
    },
    "tags": []
   },
   "source": [
    "## Code to Tokenize Sentences with BERT\n",
    "\n",
    "This code snippet demonstrates how to tokenize a list of sentences using BERT's tokenizer from the Hugging Face Transformers library. The sentences are padded, truncated, and converted into input IDs suitable for feeding into a BERT model.\n"
   ]
  },
  {
   "cell_type": "code",
   "execution_count": 17,
   "id": "7637a899",
   "metadata": {
    "execution": {
     "iopub.execute_input": "2025-03-14T19:25:38.881358Z",
     "iopub.status.busy": "2025-03-14T19:25:38.881134Z",
     "iopub.status.idle": "2025-03-14T19:26:50.316918Z",
     "shell.execute_reply": "2025-03-14T19:26:50.315957Z"
    },
    "papermill": {
     "duration": 71.453775,
     "end_time": "2025-03-14T19:26:50.326530",
     "exception": false,
     "start_time": "2025-03-14T19:25:38.872755",
     "status": "completed"
    },
    "tags": []
   },
   "outputs": [
    {
     "name": "stderr",
     "output_type": "stream",
     "text": [
      "Truncation was not explicitly activated but `max_length` is provided a specific value, please use `truncation=True` to explicitly truncate examples to max length. Defaulting to 'longest_first' truncation strategy. If you encode pairs of sequences (GLUE-style) with the tokenizer you can select this strategy more precisely by providing a specific strategy to `truncation`.\n",
      "/usr/local/lib/python3.10/dist-packages/transformers/tokenization_utils_base.py:2673: FutureWarning: The `pad_to_max_length` argument is deprecated and will be removed in a future version, use `padding=True` or `padding='longest'` to pad to the longest sequence in the batch, or use `padding='max_length'` to pad to a max length. In this case, you can give a specific length with `max_length` (e.g. `max_length=45`) or leave max_length to None to pad to the maximal input size of the model (e.g. 512 for Bert).\n",
      "  warnings.warn(\n"
     ]
    },
    {
     "name": "stdout",
     "output_type": "stream",
     "text": [
      "Original:  love it, a great upgrade from the original.  I've had mine for a couple of years\n",
      "Token IDs BERT: tensor([  101,  2293,  2009,  1010,  1037,  2307, 12200,  2013,  1996,  2434,\n",
      "         1012,  1045,  1005,  2310,  2018,  3067,  2005,  1037,  3232,  1997,\n",
      "         2086,   102,     0,     0,     0,     0,     0,     0,     0,     0,\n",
      "            0,     0,     0,     0,     0,     0,     0,     0,     0,     0,\n",
      "            0,     0,     0,     0,     0,     0,     0,     0,     0,     0,\n",
      "            0,     0,     0,     0,     0,     0,     0,     0,     0,     0,\n",
      "            0,     0,     0,     0,     0,     0,     0,     0,     0,     0,\n",
      "            0,     0,     0,     0,     0,     0,     0,     0,     0,     0,\n",
      "            0,     0,     0,     0,     0,     0,     0,     0,     0,     0,\n",
      "            0,     0,     0,     0,     0,     0,     0,     0,     0,     0,\n",
      "            0,     0,     0,     0,     0,     0,     0,     0,     0,     0,\n",
      "            0,     0,     0,     0,     0,     0,     0,     0,     0,     0,\n",
      "            0,     0,     0,     0,     0,     0,     0,     0,     0,     0,\n",
      "            0,     0,     0,     0,     0,     0,     0,     0,     0,     0,\n",
      "            0,     0,     0,     0,     0,     0,     0,     0,     0,     0,\n",
      "            0,     0,     0,     0,     0,     0,     0,     0,     0,     0,\n",
      "            0,     0,     0,     0,     0,     0,     0,     0,     0,     0,\n",
      "            0,     0,     0,     0,     0,     0,     0,     0,     0,     0,\n",
      "            0,     0,     0,     0,     0,     0,     0,     0,     0,     0,\n",
      "            0,     0,     0,     0,     0,     0,     0,     0,     0,     0,\n",
      "            0,     0,     0,     0,     0,     0,     0,     0,     0,     0,\n",
      "            0,     0,     0,     0,     0,     0,     0,     0,     0,     0,\n",
      "            0,     0,     0,     0,     0,     0,     0,     0,     0,     0,\n",
      "            0,     0,     0,     0,     0,     0,     0,     0,     0,     0,\n",
      "            0,     0,     0,     0,     0,     0,     0,     0,     0,     0,\n",
      "            0,     0,     0,     0,     0,     0,     0,     0,     0,     0,\n",
      "            0,     0,     0,     0,     0,     0,     0,     0,     0,     0,\n",
      "            0,     0,     0,     0,     0,     0,     0,     0,     0,     0,\n",
      "            0,     0,     0,     0,     0,     0,     0,     0,     0,     0,\n",
      "            0,     0,     0,     0,     0,     0,     0,     0,     0,     0,\n",
      "            0,     0,     0,     0,     0,     0,     0,     0,     0,     0,\n",
      "            0,     0,     0,     0,     0,     0,     0,     0,     0,     0,\n",
      "            0,     0,     0,     0,     0,     0,     0,     0,     0,     0,\n",
      "            0,     0,     0,     0,     0,     0,     0,     0,     0,     0,\n",
      "            0,     0,     0,     0,     0,     0,     0,     0,     0,     0,\n",
      "            0,     0,     0,     0,     0,     0,     0,     0,     0,     0,\n",
      "            0,     0,     0,     0,     0,     0,     0,     0,     0,     0,\n",
      "            0,     0,     0,     0,     0,     0,     0,     0,     0,     0,\n",
      "            0,     0,     0,     0,     0,     0,     0,     0,     0,     0,\n",
      "            0,     0,     0,     0,     0,     0,     0,     0,     0,     0,\n",
      "            0,     0,     0,     0,     0,     0,     0,     0,     0,     0,\n",
      "            0,     0,     0,     0,     0,     0,     0,     0,     0,     0,\n",
      "            0,     0,     0,     0,     0,     0,     0,     0,     0,     0,\n",
      "            0,     0,     0,     0,     0,     0,     0,     0,     0,     0,\n",
      "            0,     0,     0,     0,     0,     0,     0,     0,     0,     0,\n",
      "            0,     0,     0,     0,     0,     0,     0,     0,     0,     0,\n",
      "            0,     0,     0,     0,     0,     0,     0,     0,     0,     0,\n",
      "            0,     0,     0,     0,     0,     0,     0,     0,     0,     0,\n",
      "            0,     0,     0,     0,     0,     0,     0,     0,     0,     0,\n",
      "            0,     0,     0,     0,     0,     0,     0,     0,     0,     0,\n",
      "            0,     0,     0,     0,     0,     0,     0,     0,     0,     0,\n",
      "            0,     0])\n"
     ]
    }
   ],
   "source": [
    "bert_input_ids = []\n",
    "bert_attention_masks = []\n",
    "sentence_ids = []\n",
    "counter = 0\n",
    "\n",
    "for sent in sentences:\n",
    "    bert_encoded_dict = bert_tokenizer.encode_plus(\n",
    "                        sent,                           # Sentence to encode.\n",
    "                        add_special_tokens = True,      # Add '[CLS]' and '[SEP]'\n",
    "                        max_length = 512,              # Pad & truncate all sentences.\n",
    "                        pad_to_max_length = True,\n",
    "                        return_attention_mask = True,   # Construct attn. masks.\n",
    "                        return_tensors = 'pt',          # Return pytorch tensors.\n",
    "                   )\n",
    " \n",
    "    bert_input_ids.append(bert_encoded_dict['input_ids'])\n",
    "    bert_attention_masks.append(bert_encoded_dict['attention_mask'])\n",
    "    sentence_ids.append(counter)\n",
    "    counter  = counter + 1\n",
    "    \n",
    "bert_input_ids = torch.cat(bert_input_ids, dim=0)\n",
    "bert_attention_masks = torch.cat(bert_attention_masks, dim=0)\n",
    "\n",
    "labels = torch.tensor(labels)\n",
    "sentence_ids = torch.tensor(sentence_ids)\n",
    "\n",
    "print('Original: ', sentences[1])\n",
    "print('Token IDs BERT:', bert_input_ids[1])"
   ]
  },
  {
   "cell_type": "markdown",
   "id": "968209da",
   "metadata": {
    "papermill": {
     "duration": 0.008398,
     "end_time": "2025-03-14T19:26:50.343288",
     "exception": false,
     "start_time": "2025-03-14T19:26:50.334890",
     "status": "completed"
    },
    "tags": []
   },
   "source": [
    "## Code to Create a TensorDataset from BERT Inputs\n",
    "\n",
    "This code snippet demonstrates how to combine tokenized BERT inputs and labels into a PyTorch `TensorDataset` and set a global seed for reproducibility.\n",
    "\n"
   ]
  },
  {
   "cell_type": "code",
   "execution_count": 18,
   "id": "8ee88305",
   "metadata": {
    "execution": {
     "iopub.execute_input": "2025-03-14T19:26:50.360557Z",
     "iopub.status.busy": "2025-03-14T19:26:50.360254Z",
     "iopub.status.idle": "2025-03-14T19:26:50.367966Z",
     "shell.execute_reply": "2025-03-14T19:26:50.367144Z"
    },
    "papermill": {
     "duration": 0.017712,
     "end_time": "2025-03-14T19:26:50.369248",
     "exception": false,
     "start_time": "2025-03-14T19:26:50.351536",
     "status": "completed"
    },
    "tags": []
   },
   "outputs": [],
   "source": [
    "from torch.utils.data import TensorDataset, random_split\n",
    "# function to seed the script globally\n",
    "torch.manual_seed(0)\n",
    "\n",
    "# Combine the training inputs into a TensorDataset.\n",
    "bert_dataset = TensorDataset(sentence_ids, bert_input_ids, bert_attention_masks, labels)"
   ]
  },
  {
   "cell_type": "markdown",
   "id": "7ddd9044",
   "metadata": {
    "papermill": {
     "duration": 0.008055,
     "end_time": "2025-03-14T19:26:50.385631",
     "exception": false,
     "start_time": "2025-03-14T19:26:50.377576",
     "status": "completed"
    },
    "tags": []
   },
   "source": [
    "## Code to Remove Index from TensorDataset and Recreate a New Dataset\n",
    "\n",
    "This code snippet defines a function `index_remover` that extracts the tokenized input IDs, attention masks, and labels from a `TensorDataset`, removes the index, and returns a new `TensorDataset`. It also demonstrates how to use this function to create a new dataset from an existing one.\n"
   ]
  },
  {
   "cell_type": "code",
   "execution_count": 19,
   "id": "ed3f3612",
   "metadata": {
    "execution": {
     "iopub.execute_input": "2025-03-14T19:26:50.402798Z",
     "iopub.status.busy": "2025-03-14T19:26:50.402577Z",
     "iopub.status.idle": "2025-03-14T19:26:58.174078Z",
     "shell.execute_reply": "2025-03-14T19:26:58.173212Z"
    },
    "papermill": {
     "duration": 7.78148,
     "end_time": "2025-03-14T19:26:58.175305",
     "exception": false,
     "start_time": "2025-03-14T19:26:50.393825",
     "status": "completed"
    },
    "tags": []
   },
   "outputs": [
    {
     "data": {
      "text/plain": [
       "(tensor([  101,  2293,  2023,   999,  2092,  2081,  1010, 23073,  1010,  1998,\n",
       "          2200,  6625,  1012,  1045,  2293,  2009,   999,  2200,  3492,   102,\n",
       "             0,     0,     0,     0,     0,     0,     0,     0,     0,     0,\n",
       "             0,     0,     0,     0,     0,     0,     0,     0,     0,     0,\n",
       "             0,     0,     0,     0,     0,     0,     0,     0,     0,     0,\n",
       "             0,     0,     0,     0,     0,     0,     0,     0,     0,     0,\n",
       "             0,     0,     0,     0,     0,     0,     0,     0,     0,     0,\n",
       "             0,     0,     0,     0,     0,     0,     0,     0,     0,     0,\n",
       "             0,     0,     0,     0,     0,     0,     0,     0,     0,     0,\n",
       "             0,     0,     0,     0,     0,     0,     0,     0,     0,     0,\n",
       "             0,     0,     0,     0,     0,     0,     0,     0,     0,     0,\n",
       "             0,     0,     0,     0,     0,     0,     0,     0,     0,     0,\n",
       "             0,     0,     0,     0,     0,     0,     0,     0,     0,     0,\n",
       "             0,     0,     0,     0,     0,     0,     0,     0,     0,     0,\n",
       "             0,     0,     0,     0,     0,     0,     0,     0,     0,     0,\n",
       "             0,     0,     0,     0,     0,     0,     0,     0,     0,     0,\n",
       "             0,     0,     0,     0,     0,     0,     0,     0,     0,     0,\n",
       "             0,     0,     0,     0,     0,     0,     0,     0,     0,     0,\n",
       "             0,     0,     0,     0,     0,     0,     0,     0,     0,     0,\n",
       "             0,     0,     0,     0,     0,     0,     0,     0,     0,     0,\n",
       "             0,     0,     0,     0,     0,     0,     0,     0,     0,     0,\n",
       "             0,     0,     0,     0,     0,     0,     0,     0,     0,     0,\n",
       "             0,     0,     0,     0,     0,     0,     0,     0,     0,     0,\n",
       "             0,     0,     0,     0,     0,     0,     0,     0,     0,     0,\n",
       "             0,     0,     0,     0,     0,     0,     0,     0,     0,     0,\n",
       "             0,     0,     0,     0,     0,     0,     0,     0,     0,     0,\n",
       "             0,     0,     0,     0,     0,     0,     0,     0,     0,     0,\n",
       "             0,     0,     0,     0,     0,     0,     0,     0,     0,     0,\n",
       "             0,     0,     0,     0,     0,     0,     0,     0,     0,     0,\n",
       "             0,     0,     0,     0,     0,     0,     0,     0,     0,     0,\n",
       "             0,     0,     0,     0,     0,     0,     0,     0,     0,     0,\n",
       "             0,     0,     0,     0,     0,     0,     0,     0,     0,     0,\n",
       "             0,     0,     0,     0,     0,     0,     0,     0,     0,     0,\n",
       "             0,     0,     0,     0,     0,     0,     0,     0,     0,     0,\n",
       "             0,     0,     0,     0,     0,     0,     0,     0,     0,     0,\n",
       "             0,     0,     0,     0,     0,     0,     0,     0,     0,     0,\n",
       "             0,     0,     0,     0,     0,     0,     0,     0,     0,     0,\n",
       "             0,     0,     0,     0,     0,     0,     0,     0,     0,     0,\n",
       "             0,     0,     0,     0,     0,     0,     0,     0,     0,     0,\n",
       "             0,     0,     0,     0,     0,     0,     0,     0,     0,     0,\n",
       "             0,     0,     0,     0,     0,     0,     0,     0,     0,     0,\n",
       "             0,     0,     0,     0,     0,     0,     0,     0,     0,     0,\n",
       "             0,     0,     0,     0,     0,     0,     0,     0,     0,     0,\n",
       "             0,     0,     0,     0,     0,     0,     0,     0,     0,     0,\n",
       "             0,     0,     0,     0,     0,     0,     0,     0,     0,     0,\n",
       "             0,     0,     0,     0,     0,     0,     0,     0,     0,     0,\n",
       "             0,     0,     0,     0,     0,     0,     0,     0,     0,     0,\n",
       "             0,     0,     0,     0,     0,     0,     0,     0,     0,     0,\n",
       "             0,     0,     0,     0,     0,     0,     0,     0,     0,     0,\n",
       "             0,     0,     0,     0,     0,     0,     0,     0,     0,     0,\n",
       "             0,     0,     0,     0,     0,     0,     0,     0,     0,     0,\n",
       "             0,     0]),\n",
       " tensor([1, 1, 1, 1, 1, 1, 1, 1, 1, 1, 1, 1, 1, 1, 1, 1, 1, 1, 1, 1, 0, 0, 0, 0,\n",
       "         0, 0, 0, 0, 0, 0, 0, 0, 0, 0, 0, 0, 0, 0, 0, 0, 0, 0, 0, 0, 0, 0, 0, 0,\n",
       "         0, 0, 0, 0, 0, 0, 0, 0, 0, 0, 0, 0, 0, 0, 0, 0, 0, 0, 0, 0, 0, 0, 0, 0,\n",
       "         0, 0, 0, 0, 0, 0, 0, 0, 0, 0, 0, 0, 0, 0, 0, 0, 0, 0, 0, 0, 0, 0, 0, 0,\n",
       "         0, 0, 0, 0, 0, 0, 0, 0, 0, 0, 0, 0, 0, 0, 0, 0, 0, 0, 0, 0, 0, 0, 0, 0,\n",
       "         0, 0, 0, 0, 0, 0, 0, 0, 0, 0, 0, 0, 0, 0, 0, 0, 0, 0, 0, 0, 0, 0, 0, 0,\n",
       "         0, 0, 0, 0, 0, 0, 0, 0, 0, 0, 0, 0, 0, 0, 0, 0, 0, 0, 0, 0, 0, 0, 0, 0,\n",
       "         0, 0, 0, 0, 0, 0, 0, 0, 0, 0, 0, 0, 0, 0, 0, 0, 0, 0, 0, 0, 0, 0, 0, 0,\n",
       "         0, 0, 0, 0, 0, 0, 0, 0, 0, 0, 0, 0, 0, 0, 0, 0, 0, 0, 0, 0, 0, 0, 0, 0,\n",
       "         0, 0, 0, 0, 0, 0, 0, 0, 0, 0, 0, 0, 0, 0, 0, 0, 0, 0, 0, 0, 0, 0, 0, 0,\n",
       "         0, 0, 0, 0, 0, 0, 0, 0, 0, 0, 0, 0, 0, 0, 0, 0, 0, 0, 0, 0, 0, 0, 0, 0,\n",
       "         0, 0, 0, 0, 0, 0, 0, 0, 0, 0, 0, 0, 0, 0, 0, 0, 0, 0, 0, 0, 0, 0, 0, 0,\n",
       "         0, 0, 0, 0, 0, 0, 0, 0, 0, 0, 0, 0, 0, 0, 0, 0, 0, 0, 0, 0, 0, 0, 0, 0,\n",
       "         0, 0, 0, 0, 0, 0, 0, 0, 0, 0, 0, 0, 0, 0, 0, 0, 0, 0, 0, 0, 0, 0, 0, 0,\n",
       "         0, 0, 0, 0, 0, 0, 0, 0, 0, 0, 0, 0, 0, 0, 0, 0, 0, 0, 0, 0, 0, 0, 0, 0,\n",
       "         0, 0, 0, 0, 0, 0, 0, 0, 0, 0, 0, 0, 0, 0, 0, 0, 0, 0, 0, 0, 0, 0, 0, 0,\n",
       "         0, 0, 0, 0, 0, 0, 0, 0, 0, 0, 0, 0, 0, 0, 0, 0, 0, 0, 0, 0, 0, 0, 0, 0,\n",
       "         0, 0, 0, 0, 0, 0, 0, 0, 0, 0, 0, 0, 0, 0, 0, 0, 0, 0, 0, 0, 0, 0, 0, 0,\n",
       "         0, 0, 0, 0, 0, 0, 0, 0, 0, 0, 0, 0, 0, 0, 0, 0, 0, 0, 0, 0, 0, 0, 0, 0,\n",
       "         0, 0, 0, 0, 0, 0, 0, 0, 0, 0, 0, 0, 0, 0, 0, 0, 0, 0, 0, 0, 0, 0, 0, 0,\n",
       "         0, 0, 0, 0, 0, 0, 0, 0, 0, 0, 0, 0, 0, 0, 0, 0, 0, 0, 0, 0, 0, 0, 0, 0,\n",
       "         0, 0, 0, 0, 0, 0, 0, 0]),\n",
       " tensor(1))"
      ]
     },
     "execution_count": 19,
     "metadata": {},
     "output_type": "execute_result"
    }
   ],
   "source": [
    "def index_remover(tensordata):\n",
    "    input_ids = []\n",
    "    attention_masks = []\n",
    "    labels = []\n",
    "   \n",
    "    for a,b,c,d in tensordata:\n",
    "        input_ids.append(b.tolist())\n",
    "        attention_masks.append(c.tolist())\n",
    "        labels.append(d.tolist())\n",
    "        \n",
    "    input_ids = torch.tensor(input_ids)\n",
    "    attention_masks = torch.tensor(attention_masks)\n",
    "    labels = torch.tensor(labels)\n",
    "    \n",
    "    final_dataset =  TensorDataset(input_ids, attention_masks, labels)\n",
    "    return final_dataset\n",
    "        \n",
    "trial_dataset =  index_remover(bert_dataset)\n",
    "trial_dataset[0]"
   ]
  },
  {
   "cell_type": "markdown",
   "id": "fbc55571",
   "metadata": {
    "papermill": {
     "duration": 0.008187,
     "end_time": "2025-03-14T19:26:58.192315",
     "exception": false,
     "start_time": "2025-03-14T19:26:58.184128",
     "status": "completed"
    },
    "tags": []
   },
   "source": [
    "## Code to Split Dataset into Train, Validation, and Test Sets\n",
    "\n",
    "This code snippet demonstrates how to split a BERT dataset into training, validation, and test sets. It also calculates and prints the number of samples in each set, as well as the number of samples with a specific label (e.g., \"real disaster tweets\").\n",
    "\n"
   ]
  },
  {
   "cell_type": "code",
   "execution_count": 20,
   "id": "005be56a",
   "metadata": {
    "execution": {
     "iopub.execute_input": "2025-03-14T19:26:58.210086Z",
     "iopub.status.busy": "2025-03-14T19:26:58.209849Z",
     "iopub.status.idle": "2025-03-14T19:27:06.610809Z",
     "shell.execute_reply": "2025-03-14T19:27:06.609812Z"
    },
    "papermill": {
     "duration": 8.41151,
     "end_time": "2025-03-14T19:27:06.612077",
     "exception": false,
     "start_time": "2025-03-14T19:26:58.200567",
     "status": "completed"
    },
    "tags": []
   },
   "outputs": [
    {
     "name": "stdout",
     "output_type": "stream",
     "text": [
      "32,749 training samples\n",
      "16,407 training samples with real fake review\n",
      "4,044 validation samples\n",
      "2,011 validation samples with real fake review\n",
      "3,639 test samples\n",
      "1,798 test samples with real fake review\n"
     ]
    }
   ],
   "source": [
    "train_size = int(0.9 * len(bert_dataset))\n",
    "val_size = len(bert_dataset) - train_size\n",
    "\n",
    "bert_train_dataset, bert_val_dataset = random_split(bert_dataset, [train_size, val_size])\n",
    "\n",
    "train_size = int(0.9 * len(bert_train_dataset))\n",
    "test_size = len(bert_train_dataset) - train_size\n",
    "\n",
    "bert_train_dataset, bert_test_dataset = random_split(bert_train_dataset, [train_size, test_size])\n",
    "\n",
    "sentence_ids_list_valid = []\n",
    "for a,b,c,d in bert_val_dataset:\n",
    "  sentence_ids_list_valid.append(a.tolist())\n",
    "\n",
    "bert_train_dataset = index_remover(bert_train_dataset)\n",
    "bert_val_dataset = index_remover(bert_val_dataset)\n",
    "bert_test_dataset = index_remover(bert_test_dataset)\n",
    "\n",
    "label_temp_list = []\n",
    "for a,b,c in bert_train_dataset:\n",
    "  label_temp_list.append(c)\n",
    "\n",
    "print('{:>5,} training samples'.format(train_size))\n",
    "print('{:>5,} training samples with real fake review'.format(sum(label_temp_list)))\n",
    "\n",
    "\n",
    "label_temp_list = []\n",
    "for a,b,c in bert_val_dataset:\n",
    "  label_temp_list.append(c)\n",
    "\n",
    "print('{:>5,} validation samples'.format(val_size))\n",
    "print('{:>5,} validation samples with real fake review'.format(sum(label_temp_list)))\n",
    "\n",
    "label_temp_list = []\n",
    "for a,b,c in bert_test_dataset:\n",
    "  label_temp_list.append(c)\n",
    "\n",
    "print('{:>5,} test samples'.format(test_size))\n",
    "print('{:>5,} test samples with real fake review'.format(sum(label_temp_list)))"
   ]
  },
  {
   "cell_type": "markdown",
   "id": "7bdf7626",
   "metadata": {
    "papermill": {
     "duration": 0.008675,
     "end_time": "2025-03-14T19:27:06.629612",
     "exception": false,
     "start_time": "2025-03-14T19:27:06.620937",
     "status": "completed"
    },
    "tags": []
   },
   "source": [
    "## Code to Create DataLoaders for Training, Validation, and Test Sets\n",
    "\n",
    "This code snippet demonstrates how to create DataLoaders for the training, validation, and test datasets. It uses PyTorch's `DataLoader` class along with `RandomSampler` for shuffling the training data and `SequentialSampler` for sequentially sampling validation and test data.\n",
    "\n"
   ]
  },
  {
   "cell_type": "code",
   "execution_count": 21,
   "id": "2cd15f76",
   "metadata": {
    "execution": {
     "iopub.execute_input": "2025-03-14T19:27:06.647309Z",
     "iopub.status.busy": "2025-03-14T19:27:06.647037Z",
     "iopub.status.idle": "2025-03-14T19:27:06.651451Z",
     "shell.execute_reply": "2025-03-14T19:27:06.650685Z"
    },
    "papermill": {
     "duration": 0.014915,
     "end_time": "2025-03-14T19:27:06.652942",
     "exception": false,
     "start_time": "2025-03-14T19:27:06.638027",
     "status": "completed"
    },
    "tags": []
   },
   "outputs": [],
   "source": [
    "from torch.utils.data import DataLoader, RandomSampler, SequentialSampler\n",
    "\n",
    "batch_size = 10\n",
    " \n",
    "bert_train_dataloader = DataLoader(\n",
    "            bert_train_dataset,  \n",
    "            sampler = RandomSampler(bert_train_dataset),\n",
    "            batch_size = batch_size\n",
    "        )\n",
    "\n",
    "bert_validation_dataloader = DataLoader(\n",
    "            bert_val_dataset, \n",
    "            sampler = SequentialSampler(bert_val_dataset), \n",
    "            batch_size = batch_size\n",
    "        )\n",
    "\n",
    "bert_test_dataloader = DataLoader(\n",
    "            bert_test_dataset, \n",
    "            sampler = SequentialSampler(bert_test_dataset), \n",
    "            batch_size = batch_size\n",
    "        )\n"
   ]
  },
  {
   "cell_type": "code",
   "execution_count": 22,
   "id": "88bb5009",
   "metadata": {
    "execution": {
     "iopub.execute_input": "2025-03-14T19:27:06.670584Z",
     "iopub.status.busy": "2025-03-14T19:27:06.670332Z",
     "iopub.status.idle": "2025-03-14T19:27:06.676573Z",
     "shell.execute_reply": "2025-03-14T19:27:06.675766Z"
    },
    "papermill": {
     "duration": 0.016598,
     "end_time": "2025-03-14T19:27:06.677891",
     "exception": false,
     "start_time": "2025-03-14T19:27:06.661293",
     "status": "completed"
    },
    "tags": []
   },
   "outputs": [
    {
     "name": "stderr",
     "output_type": "stream",
     "text": [
      "/usr/local/lib/python3.10/dist-packages/transformers/optimization.py:591: FutureWarning: This implementation of AdamW is deprecated and will be removed in a future version. Use the PyTorch implementation torch.optim.AdamW instead, or set `no_deprecation_warning=True` to disable this warning\n",
      "  warnings.warn(\n"
     ]
    }
   ],
   "source": [
    "bert_optimizer = AdamW(bert_model.parameters(), lr = 5e-5, eps = 1e-8)"
   ]
  },
  {
   "cell_type": "code",
   "execution_count": 23,
   "id": "73e9f414",
   "metadata": {
    "execution": {
     "iopub.execute_input": "2025-03-14T19:27:06.695783Z",
     "iopub.status.busy": "2025-03-14T19:27:06.695472Z",
     "iopub.status.idle": "2025-03-14T19:27:06.699485Z",
     "shell.execute_reply": "2025-03-14T19:27:06.698505Z"
    },
    "papermill": {
     "duration": 0.014253,
     "end_time": "2025-03-14T19:27:06.700642",
     "exception": false,
     "start_time": "2025-03-14T19:27:06.686389",
     "status": "completed"
    },
    "tags": []
   },
   "outputs": [],
   "source": [
    "from transformers import get_linear_schedule_with_warmup\n",
    "\n",
    "epochs = 5\n",
    "\n",
    "total_steps = len(bert_train_dataloader) * epochs\n",
    "\n",
    "bert_scheduler = get_linear_schedule_with_warmup(bert_optimizer, \n",
    "                                            num_warmup_steps = 0, # Default value in run_glue.py\n",
    "                                            num_training_steps = total_steps)"
   ]
  },
  {
   "cell_type": "code",
   "execution_count": 24,
   "id": "7584e23b",
   "metadata": {
    "execution": {
     "iopub.execute_input": "2025-03-14T19:27:06.718223Z",
     "iopub.status.busy": "2025-03-14T19:27:06.717993Z",
     "iopub.status.idle": "2025-03-14T19:27:06.721622Z",
     "shell.execute_reply": "2025-03-14T19:27:06.720841Z"
    },
    "papermill": {
     "duration": 0.013715,
     "end_time": "2025-03-14T19:27:06.722785",
     "exception": false,
     "start_time": "2025-03-14T19:27:06.709070",
     "status": "completed"
    },
    "tags": []
   },
   "outputs": [],
   "source": [
    "import numpy as np\n",
    "\n",
    "def flat_accuracy(preds, labels):\n",
    "    pred_flat = np.argmax(preds, axis=1).flatten()\n",
    "    labels_flat = labels.flatten()\n",
    "    return np.sum(pred_flat == labels_flat) / len(labels_flat)"
   ]
  },
  {
   "cell_type": "code",
   "execution_count": 25,
   "id": "91d49087",
   "metadata": {
    "execution": {
     "iopub.execute_input": "2025-03-14T19:27:06.740541Z",
     "iopub.status.busy": "2025-03-14T19:27:06.740265Z",
     "iopub.status.idle": "2025-03-14T19:27:06.744119Z",
     "shell.execute_reply": "2025-03-14T19:27:06.743304Z"
    },
    "papermill": {
     "duration": 0.014074,
     "end_time": "2025-03-14T19:27:06.745396",
     "exception": false,
     "start_time": "2025-03-14T19:27:06.731322",
     "status": "completed"
    },
    "tags": []
   },
   "outputs": [],
   "source": [
    "import time\n",
    "import datetime\n",
    "\n",
    "def format_time(elapsed):\n",
    "    '''\n",
    "    Takes a time in seconds and returns a string hh:mm:ss\n",
    "    '''\n",
    "    # Round to the nearest second.\n",
    "    elapsed_rounded = int(round((elapsed)))\n",
    "    \n",
    "    # Format as hh:mm:ss\n",
    "    return str(datetime.timedelta(seconds=elapsed_rounded))"
   ]
  },
  {
   "cell_type": "code",
   "execution_count": 26,
   "id": "fea9a817",
   "metadata": {
    "execution": {
     "iopub.execute_input": "2025-03-14T19:27:06.763822Z",
     "iopub.status.busy": "2025-03-14T19:27:06.763591Z",
     "iopub.status.idle": "2025-03-14T22:11:54.405664Z",
     "shell.execute_reply": "2025-03-14T22:11:54.404795Z"
    },
    "papermill": {
     "duration": 9887.678318,
     "end_time": "2025-03-14T22:11:54.432607",
     "exception": false,
     "start_time": "2025-03-14T19:27:06.754289",
     "status": "completed"
    },
    "tags": []
   },
   "outputs": [
    {
     "name": "stdout",
     "output_type": "stream",
     "text": [
      "\n",
      "======== Epoch 1 / 5 ========\n",
      "Training...\n",
      "  Batch   100  of  3,275.    Elapsed: 0:00:58.\n",
      "  Batch   200  of  3,275.    Elapsed: 0:01:56.\n",
      "  Batch   300  of  3,275.    Elapsed: 0:02:54.\n",
      "  Batch   400  of  3,275.    Elapsed: 0:03:53.\n",
      "  Batch   500  of  3,275.    Elapsed: 0:04:51.\n",
      "  Batch   600  of  3,275.    Elapsed: 0:05:49.\n",
      "  Batch   700  of  3,275.    Elapsed: 0:06:47.\n",
      "  Batch   800  of  3,275.    Elapsed: 0:07:45.\n",
      "  Batch   900  of  3,275.    Elapsed: 0:08:44.\n",
      "  Batch 1,000  of  3,275.    Elapsed: 0:09:42.\n",
      "  Batch 1,100  of  3,275.    Elapsed: 0:10:40.\n",
      "  Batch 1,200  of  3,275.    Elapsed: 0:11:38.\n",
      "  Batch 1,300  of  3,275.    Elapsed: 0:12:37.\n",
      "  Batch 1,400  of  3,275.    Elapsed: 0:13:35.\n",
      "  Batch 1,500  of  3,275.    Elapsed: 0:14:33.\n",
      "  Batch 1,600  of  3,275.    Elapsed: 0:15:32.\n",
      "  Batch 1,700  of  3,275.    Elapsed: 0:16:30.\n",
      "  Batch 1,800  of  3,275.    Elapsed: 0:17:28.\n",
      "  Batch 1,900  of  3,275.    Elapsed: 0:18:27.\n",
      "  Batch 2,000  of  3,275.    Elapsed: 0:19:25.\n",
      "  Batch 2,100  of  3,275.    Elapsed: 0:20:23.\n",
      "  Batch 2,200  of  3,275.    Elapsed: 0:21:22.\n",
      "  Batch 2,300  of  3,275.    Elapsed: 0:22:20.\n",
      "  Batch 2,400  of  3,275.    Elapsed: 0:23:19.\n",
      "  Batch 2,500  of  3,275.    Elapsed: 0:24:17.\n",
      "  Batch 2,600  of  3,275.    Elapsed: 0:25:15.\n",
      "  Batch 2,700  of  3,275.    Elapsed: 0:26:14.\n",
      "  Batch 2,800  of  3,275.    Elapsed: 0:27:12.\n",
      "  Batch 2,900  of  3,275.    Elapsed: 0:28:10.\n",
      "  Batch 3,000  of  3,275.    Elapsed: 0:29:08.\n",
      "  Batch 3,100  of  3,275.    Elapsed: 0:30:07.\n",
      "  Batch 3,200  of  3,275.    Elapsed: 0:31:05.\n",
      "\n",
      "  Average training loss: 0.15\n",
      "  Training epoch took: 0:31:49\n",
      "\n",
      "Running Validation...\n",
      "  Accuracy: 0.96\n",
      "  Validation Loss: 0.19\n",
      "  Validation took: 0:01:04\n",
      "\n",
      "======== Epoch 2 / 5 ========\n",
      "Training...\n",
      "  Batch   100  of  3,275.    Elapsed: 0:00:58.\n",
      "  Batch   200  of  3,275.    Elapsed: 0:01:56.\n",
      "  Batch   300  of  3,275.    Elapsed: 0:02:55.\n",
      "  Batch   400  of  3,275.    Elapsed: 0:03:53.\n",
      "  Batch   500  of  3,275.    Elapsed: 0:04:52.\n",
      "  Batch   600  of  3,275.    Elapsed: 0:05:50.\n",
      "  Batch   700  of  3,275.    Elapsed: 0:06:48.\n",
      "  Batch   800  of  3,275.    Elapsed: 0:07:47.\n",
      "  Batch   900  of  3,275.    Elapsed: 0:08:45.\n",
      "  Batch 1,000  of  3,275.    Elapsed: 0:09:44.\n",
      "  Batch 1,100  of  3,275.    Elapsed: 0:10:42.\n",
      "  Batch 1,200  of  3,275.    Elapsed: 0:11:41.\n",
      "  Batch 1,300  of  3,275.    Elapsed: 0:12:39.\n",
      "  Batch 1,400  of  3,275.    Elapsed: 0:13:38.\n",
      "  Batch 1,500  of  3,275.    Elapsed: 0:14:36.\n",
      "  Batch 1,600  of  3,275.    Elapsed: 0:15:34.\n",
      "  Batch 1,700  of  3,275.    Elapsed: 0:16:33.\n",
      "  Batch 1,800  of  3,275.    Elapsed: 0:17:31.\n",
      "  Batch 1,900  of  3,275.    Elapsed: 0:18:30.\n",
      "  Batch 2,000  of  3,275.    Elapsed: 0:19:28.\n",
      "  Batch 2,100  of  3,275.    Elapsed: 0:20:27.\n",
      "  Batch 2,200  of  3,275.    Elapsed: 0:21:25.\n",
      "  Batch 2,300  of  3,275.    Elapsed: 0:22:23.\n",
      "  Batch 2,400  of  3,275.    Elapsed: 0:23:22.\n",
      "  Batch 2,500  of  3,275.    Elapsed: 0:24:20.\n",
      "  Batch 2,600  of  3,275.    Elapsed: 0:25:19.\n",
      "  Batch 2,700  of  3,275.    Elapsed: 0:26:17.\n",
      "  Batch 2,800  of  3,275.    Elapsed: 0:27:16.\n",
      "  Batch 2,900  of  3,275.    Elapsed: 0:28:14.\n",
      "  Batch 3,000  of  3,275.    Elapsed: 0:29:13.\n",
      "  Batch 3,100  of  3,275.    Elapsed: 0:30:11.\n",
      "  Batch 3,200  of  3,275.    Elapsed: 0:31:10.\n",
      "\n",
      "  Average training loss: 0.05\n",
      "  Training epoch took: 0:31:53\n",
      "\n",
      "Running Validation...\n",
      "  Accuracy: 0.98\n",
      "  Validation Loss: 0.06\n",
      "  Validation took: 0:01:04\n",
      "\n",
      "======== Epoch 3 / 5 ========\n",
      "Training...\n",
      "  Batch   100  of  3,275.    Elapsed: 0:00:58.\n",
      "  Batch   200  of  3,275.    Elapsed: 0:01:56.\n",
      "  Batch   300  of  3,275.    Elapsed: 0:02:55.\n",
      "  Batch   400  of  3,275.    Elapsed: 0:03:53.\n",
      "  Batch   500  of  3,275.    Elapsed: 0:04:52.\n",
      "  Batch   600  of  3,275.    Elapsed: 0:05:50.\n",
      "  Batch   700  of  3,275.    Elapsed: 0:06:49.\n",
      "  Batch   800  of  3,275.    Elapsed: 0:07:47.\n",
      "  Batch   900  of  3,275.    Elapsed: 0:08:46.\n",
      "  Batch 1,000  of  3,275.    Elapsed: 0:09:44.\n",
      "  Batch 1,100  of  3,275.    Elapsed: 0:10:42.\n",
      "  Batch 1,200  of  3,275.    Elapsed: 0:11:41.\n",
      "  Batch 1,300  of  3,275.    Elapsed: 0:12:39.\n",
      "  Batch 1,400  of  3,275.    Elapsed: 0:13:38.\n",
      "  Batch 1,500  of  3,275.    Elapsed: 0:14:36.\n",
      "  Batch 1,600  of  3,275.    Elapsed: 0:15:35.\n",
      "  Batch 1,700  of  3,275.    Elapsed: 0:16:33.\n",
      "  Batch 1,800  of  3,275.    Elapsed: 0:17:32.\n",
      "  Batch 1,900  of  3,275.    Elapsed: 0:18:30.\n",
      "  Batch 2,000  of  3,275.    Elapsed: 0:19:29.\n",
      "  Batch 2,100  of  3,275.    Elapsed: 0:20:27.\n",
      "  Batch 2,200  of  3,275.    Elapsed: 0:21:26.\n",
      "  Batch 2,300  of  3,275.    Elapsed: 0:22:24.\n",
      "  Batch 2,400  of  3,275.    Elapsed: 0:23:23.\n",
      "  Batch 2,500  of  3,275.    Elapsed: 0:24:21.\n",
      "  Batch 2,600  of  3,275.    Elapsed: 0:25:20.\n",
      "  Batch 2,700  of  3,275.    Elapsed: 0:26:18.\n",
      "  Batch 2,800  of  3,275.    Elapsed: 0:27:17.\n",
      "  Batch 2,900  of  3,275.    Elapsed: 0:28:15.\n",
      "  Batch 3,000  of  3,275.    Elapsed: 0:29:14.\n",
      "  Batch 3,100  of  3,275.    Elapsed: 0:30:12.\n",
      "  Batch 3,200  of  3,275.    Elapsed: 0:31:11.\n",
      "\n",
      "  Average training loss: 0.02\n",
      "  Training epoch took: 0:31:55\n",
      "\n",
      "Running Validation...\n",
      "  Accuracy: 0.97\n",
      "  Validation Loss: 0.17\n",
      "  Validation took: 0:01:04\n",
      "\n",
      "======== Epoch 4 / 5 ========\n",
      "Training...\n",
      "  Batch   100  of  3,275.    Elapsed: 0:00:58.\n",
      "  Batch   200  of  3,275.    Elapsed: 0:01:57.\n",
      "  Batch   300  of  3,275.    Elapsed: 0:02:55.\n",
      "  Batch   400  of  3,275.    Elapsed: 0:03:54.\n",
      "  Batch   500  of  3,275.    Elapsed: 0:04:52.\n",
      "  Batch   600  of  3,275.    Elapsed: 0:05:51.\n",
      "  Batch   700  of  3,275.    Elapsed: 0:06:49.\n",
      "  Batch   800  of  3,275.    Elapsed: 0:07:48.\n",
      "  Batch   900  of  3,275.    Elapsed: 0:08:46.\n",
      "  Batch 1,000  of  3,275.    Elapsed: 0:09:45.\n",
      "  Batch 1,100  of  3,275.    Elapsed: 0:10:43.\n",
      "  Batch 1,200  of  3,275.    Elapsed: 0:11:42.\n",
      "  Batch 1,300  of  3,275.    Elapsed: 0:12:41.\n",
      "  Batch 1,400  of  3,275.    Elapsed: 0:13:39.\n",
      "  Batch 1,500  of  3,275.    Elapsed: 0:14:38.\n",
      "  Batch 1,600  of  3,275.    Elapsed: 0:15:36.\n",
      "  Batch 1,700  of  3,275.    Elapsed: 0:16:35.\n",
      "  Batch 1,800  of  3,275.    Elapsed: 0:17:33.\n",
      "  Batch 1,900  of  3,275.    Elapsed: 0:18:32.\n",
      "  Batch 2,000  of  3,275.    Elapsed: 0:19:30.\n",
      "  Batch 2,100  of  3,275.    Elapsed: 0:20:29.\n",
      "  Batch 2,200  of  3,275.    Elapsed: 0:21:27.\n",
      "  Batch 2,300  of  3,275.    Elapsed: 0:22:26.\n",
      "  Batch 2,400  of  3,275.    Elapsed: 0:23:24.\n",
      "  Batch 2,500  of  3,275.    Elapsed: 0:24:23.\n",
      "  Batch 2,600  of  3,275.    Elapsed: 0:25:21.\n",
      "  Batch 2,700  of  3,275.    Elapsed: 0:26:20.\n",
      "  Batch 2,800  of  3,275.    Elapsed: 0:27:18.\n",
      "  Batch 2,900  of  3,275.    Elapsed: 0:28:17.\n",
      "  Batch 3,000  of  3,275.    Elapsed: 0:29:15.\n",
      "  Batch 3,100  of  3,275.    Elapsed: 0:30:14.\n",
      "  Batch 3,200  of  3,275.    Elapsed: 0:31:12.\n",
      "\n",
      "  Average training loss: 0.01\n",
      "  Training epoch took: 0:31:56\n",
      "\n",
      "Running Validation...\n",
      "  Accuracy: 0.98\n",
      "  Validation Loss: 0.16\n",
      "  Validation took: 0:01:04\n",
      "\n",
      "======== Epoch 5 / 5 ========\n",
      "Training...\n",
      "  Batch   100  of  3,275.    Elapsed: 0:00:58.\n",
      "  Batch   200  of  3,275.    Elapsed: 0:01:57.\n",
      "  Batch   300  of  3,275.    Elapsed: 0:02:55.\n",
      "  Batch   400  of  3,275.    Elapsed: 0:03:54.\n",
      "  Batch   500  of  3,275.    Elapsed: 0:04:52.\n",
      "  Batch   600  of  3,275.    Elapsed: 0:05:51.\n",
      "  Batch   700  of  3,275.    Elapsed: 0:06:49.\n",
      "  Batch   800  of  3,275.    Elapsed: 0:07:48.\n",
      "  Batch   900  of  3,275.    Elapsed: 0:08:46.\n",
      "  Batch 1,000  of  3,275.    Elapsed: 0:09:45.\n",
      "  Batch 1,100  of  3,275.    Elapsed: 0:10:43.\n",
      "  Batch 1,200  of  3,275.    Elapsed: 0:11:42.\n",
      "  Batch 1,300  of  3,275.    Elapsed: 0:12:40.\n",
      "  Batch 1,400  of  3,275.    Elapsed: 0:13:39.\n",
      "  Batch 1,500  of  3,275.    Elapsed: 0:14:37.\n",
      "  Batch 1,600  of  3,275.    Elapsed: 0:15:36.\n",
      "  Batch 1,700  of  3,275.    Elapsed: 0:16:34.\n",
      "  Batch 1,800  of  3,275.    Elapsed: 0:17:33.\n",
      "  Batch 1,900  of  3,275.    Elapsed: 0:18:31.\n",
      "  Batch 2,000  of  3,275.    Elapsed: 0:19:30.\n",
      "  Batch 2,100  of  3,275.    Elapsed: 0:20:28.\n",
      "  Batch 2,200  of  3,275.    Elapsed: 0:21:27.\n",
      "  Batch 2,300  of  3,275.    Elapsed: 0:22:25.\n",
      "  Batch 2,400  of  3,275.    Elapsed: 0:23:24.\n",
      "  Batch 2,500  of  3,275.    Elapsed: 0:24:22.\n",
      "  Batch 2,600  of  3,275.    Elapsed: 0:25:21.\n",
      "  Batch 2,700  of  3,275.    Elapsed: 0:26:19.\n",
      "  Batch 2,800  of  3,275.    Elapsed: 0:27:18.\n",
      "  Batch 2,900  of  3,275.    Elapsed: 0:28:16.\n",
      "  Batch 3,000  of  3,275.    Elapsed: 0:29:15.\n",
      "  Batch 3,100  of  3,275.    Elapsed: 0:30:13.\n",
      "  Batch 3,200  of  3,275.    Elapsed: 0:31:12.\n",
      "\n",
      "  Average training loss: 0.00\n",
      "  Training epoch took: 0:31:55\n",
      "\n",
      "Running Validation...\n",
      "  Accuracy: 0.98\n",
      "  Validation Loss: 0.14\n",
      "  Validation took: 0:01:04\n",
      "\n",
      "Training complete!\n",
      "Total training took 2:44:48 (h:mm:ss)\n"
     ]
    }
   ],
   "source": [
    "import random\n",
    "\n",
    "seed_val = 100\n",
    "\n",
    "random.seed(seed_val)\n",
    "np.random.seed(seed_val)\n",
    "torch.manual_seed(seed_val)\n",
    "torch.cuda.manual_seed_all(seed_val)\n",
    "\n",
    "bert_training_stats = []\n",
    "\n",
    "total_t0 = time.time()\n",
    "\n",
    "for epoch_i in range(0, epochs):\n",
    "    \n",
    "    print(\"\")\n",
    "    print('======== Epoch {:} / {:} ========'.format(epoch_i + 1, epochs))\n",
    "    print('Training...')\n",
    "\n",
    "    t0 = time.time()\n",
    "\n",
    "    total_train_loss = 0\n",
    "\n",
    "    bert_model.train()\n",
    "\n",
    "    for step, batch in enumerate(bert_train_dataloader):\n",
    "\n",
    "        if step % 100 == 0 and not step == 0:\n",
    "            elapsed = format_time(time.time() - t0)\n",
    "            print('  Batch {:>5,}  of  {:>5,}.    Elapsed: {:}.'.format(step, len(bert_train_dataloader), elapsed))\n",
    "\n",
    "        b_input_ids = batch[0].to(device)\n",
    "        b_input_mask = batch[1].to(device)\n",
    "        b_labels = batch[2].to(device)\n",
    "\n",
    "        bert_model.zero_grad()        \n",
    "\n",
    "        outputs = bert_model(b_input_ids, \n",
    "                             token_type_ids=None, \n",
    "                             attention_mask=b_input_mask, \n",
    "                             labels=b_labels)\n",
    "        loss = outputs[0] \n",
    "        logits = outputs[1]\n",
    "        total_train_loss += loss.item()\n",
    "\n",
    "        loss.backward()\n",
    "\n",
    "        torch.nn.utils.clip_grad_norm_(bert_model.parameters(), 1.0)\n",
    "\n",
    "        bert_optimizer.step()\n",
    "\n",
    "        bert_scheduler.step()\n",
    "\n",
    "    avg_train_loss = total_train_loss / len(bert_train_dataloader)            \n",
    "    \n",
    "    training_time = format_time(time.time() - t0)\n",
    "\n",
    "    print(\"\")\n",
    "    print(\"  Average training loss: {0:.2f}\".format(avg_train_loss))\n",
    "    print(\"  Training epoch took: {:}\".format(training_time))\n",
    "        \n",
    "    print(\"\")\n",
    "    print(\"Running Validation...\")\n",
    "\n",
    "    t0 = time.time()\n",
    "\n",
    "    bert_model.eval()\n",
    "\n",
    "    total_eval_accuracy = 0\n",
    "    total_eval_loss = 0\n",
    "    nb_eval_steps = 0\n",
    "\n",
    "    for batch in bert_validation_dataloader:\n",
    "        \n",
    "        b_input_ids = batch[0].to(device)\n",
    "        b_input_mask = batch[1].to(device)\n",
    "        b_labels = batch[2].to(device)\n",
    "        \n",
    "        with torch.no_grad():        \n",
    "\n",
    "            outputs = bert_model(b_input_ids, token_type_ids=None, attention_mask=b_input_mask, labels=b_labels)\n",
    "        loss = outputs[0] \n",
    "        logits = outputs[1]\n",
    "        total_eval_loss += loss.item()\n",
    "\n",
    "        logits = logits.detach().cpu().numpy()\n",
    "        label_ids = b_labels.to('cpu').numpy()\n",
    "\n",
    "        total_eval_accuracy += flat_accuracy(logits, label_ids)\n",
    "        \n",
    "\n",
    "    avg_val_accuracy = total_eval_accuracy / len(bert_validation_dataloader)\n",
    "    print(\"  Accuracy: {0:.2f}\".format(avg_val_accuracy))\n",
    "\n",
    "    avg_val_loss = total_eval_loss / len(bert_validation_dataloader)\n",
    "    \n",
    "    validation_time = format_time(time.time() - t0)\n",
    "    \n",
    "    print(\"  Validation Loss: {0:.2f}\".format(avg_val_loss))\n",
    "    print(\"  Validation took: {:}\".format(validation_time))\n",
    "\n",
    "    bert_training_stats.append(\n",
    "        {\n",
    "            'epoch': epoch_i + 1,\n",
    "            'Training Loss': avg_train_loss,\n",
    "            'Valid. Loss': avg_val_loss,\n",
    "            'Valid. Accur.': avg_val_accuracy,\n",
    "            'Training Time': training_time,\n",
    "            'Validation Time': validation_time\n",
    "        }\n",
    "    )\n",
    "\n",
    "print(\"\")\n",
    "print(\"Training complete!\")\n",
    "\n",
    "print(\"Total training took {:} (h:mm:ss)\".format(format_time(time.time()-total_t0)))\n"
   ]
  },
  {
   "cell_type": "code",
   "execution_count": 27,
   "id": "57b44689",
   "metadata": {
    "execution": {
     "iopub.execute_input": "2025-03-14T22:11:54.465755Z",
     "iopub.status.busy": "2025-03-14T22:11:54.465396Z",
     "iopub.status.idle": "2025-03-14T22:11:54.479256Z",
     "shell.execute_reply": "2025-03-14T22:11:54.478498Z"
    },
    "papermill": {
     "duration": 0.031611,
     "end_time": "2025-03-14T22:11:54.480512",
     "exception": false,
     "start_time": "2025-03-14T22:11:54.448901",
     "status": "completed"
    },
    "tags": []
   },
   "outputs": [
    {
     "data": {
      "text/html": [
       "<div>\n",
       "<style scoped>\n",
       "    .dataframe tbody tr th:only-of-type {\n",
       "        vertical-align: middle;\n",
       "    }\n",
       "\n",
       "    .dataframe tbody tr th {\n",
       "        vertical-align: top;\n",
       "    }\n",
       "\n",
       "    .dataframe thead th {\n",
       "        text-align: right;\n",
       "    }\n",
       "</style>\n",
       "<table border=\"1\" class=\"dataframe\">\n",
       "  <thead>\n",
       "    <tr style=\"text-align: right;\">\n",
       "      <th></th>\n",
       "      <th>Training Loss</th>\n",
       "      <th>Valid. Loss</th>\n",
       "      <th>Valid. Accur.</th>\n",
       "      <th>Training Time</th>\n",
       "      <th>Validation Time</th>\n",
       "    </tr>\n",
       "    <tr>\n",
       "      <th>epoch</th>\n",
       "      <th></th>\n",
       "      <th></th>\n",
       "      <th></th>\n",
       "      <th></th>\n",
       "      <th></th>\n",
       "    </tr>\n",
       "  </thead>\n",
       "  <tbody>\n",
       "    <tr>\n",
       "      <th>1</th>\n",
       "      <td>0.145535</td>\n",
       "      <td>0.185425</td>\n",
       "      <td>0.960988</td>\n",
       "      <td>0:31:49</td>\n",
       "      <td>0:01:04</td>\n",
       "    </tr>\n",
       "    <tr>\n",
       "      <th>2</th>\n",
       "      <td>0.054943</td>\n",
       "      <td>0.062502</td>\n",
       "      <td>0.983704</td>\n",
       "      <td>0:31:53</td>\n",
       "      <td>0:01:04</td>\n",
       "    </tr>\n",
       "    <tr>\n",
       "      <th>3</th>\n",
       "      <td>0.021471</td>\n",
       "      <td>0.169087</td>\n",
       "      <td>0.971358</td>\n",
       "      <td>0:31:55</td>\n",
       "      <td>0:01:04</td>\n",
       "    </tr>\n",
       "    <tr>\n",
       "      <th>4</th>\n",
       "      <td>0.009589</td>\n",
       "      <td>0.159398</td>\n",
       "      <td>0.975309</td>\n",
       "      <td>0:31:56</td>\n",
       "      <td>0:01:04</td>\n",
       "    </tr>\n",
       "    <tr>\n",
       "      <th>5</th>\n",
       "      <td>0.003531</td>\n",
       "      <td>0.136303</td>\n",
       "      <td>0.977531</td>\n",
       "      <td>0:31:55</td>\n",
       "      <td>0:01:04</td>\n",
       "    </tr>\n",
       "  </tbody>\n",
       "</table>\n",
       "</div>"
      ],
      "text/plain": [
       "       Training Loss  Valid. Loss  Valid. Accur. Training Time Validation Time\n",
       "epoch                                                                         \n",
       "1           0.145535     0.185425       0.960988       0:31:49         0:01:04\n",
       "2           0.054943     0.062502       0.983704       0:31:53         0:01:04\n",
       "3           0.021471     0.169087       0.971358       0:31:55         0:01:04\n",
       "4           0.009589     0.159398       0.975309       0:31:56         0:01:04\n",
       "5           0.003531     0.136303       0.977531       0:31:55         0:01:04"
      ]
     },
     "execution_count": 27,
     "metadata": {},
     "output_type": "execute_result"
    }
   ],
   "source": [
    "import pandas as pd\n",
    "\n",
    "# pd.set_option('precision', 2)\n",
    "\n",
    "df_stats = pd.DataFrame(data=bert_training_stats)\n",
    "\n",
    "df_stats = df_stats.set_index('epoch')\n",
    "df_stats"
   ]
  },
  {
   "cell_type": "code",
   "execution_count": 28,
   "id": "aa57793f",
   "metadata": {
    "execution": {
     "iopub.execute_input": "2025-03-14T22:11:54.516940Z",
     "iopub.status.busy": "2025-03-14T22:11:54.516552Z",
     "iopub.status.idle": "2025-03-14T22:11:54.777839Z",
     "shell.execute_reply": "2025-03-14T22:11:54.777006Z"
    },
    "papermill": {
     "duration": 0.28101,
     "end_time": "2025-03-14T22:11:54.779080",
     "exception": false,
     "start_time": "2025-03-14T22:11:54.498070",
     "status": "completed"
    },
    "tags": []
   },
   "outputs": [
    {
     "data": {
      "image/png": "[encoded data removed]",
      "text/plain": [
       "<Figure size 1200x600 with 1 Axes>"
      ]
     },
     "metadata": {},
     "output_type": "display_data"
    }
   ],
   "source": [
    "import matplotlib.pyplot as plt\n",
    "%matplotlib inline\n",
    "\n",
    "import seaborn as sns\n",
    "sns.set(style='darkgrid')\n",
    "sns.set(font_scale=1.5)\n",
    "plt.rcParams[\"figure.figsize\"] = (12,6)\n",
    "\n",
    "# Plot the learning curve.\n",
    "plt.plot(df_stats['Training Loss'], 'b-o', label=\"Training\")\n",
    "plt.plot(df_stats['Valid. Loss'], 'g-o', label=\"Validation\")\n",
    "\n",
    "# Label the plot.\n",
    "plt.title(\"Training & Validation Loss\")\n",
    "plt.xlabel(\"Epoch\")\n",
    "plt.ylabel(\"Loss\")\n",
    "plt.legend()\n",
    "plt.xticks([1, 2, 3, 4, 5])\n",
    "\n",
    "plt.show()"
   ]
  },
  {
   "cell_type": "code",
   "execution_count": 29,
   "id": "32dfb962",
   "metadata": {
    "execution": {
     "iopub.execute_input": "2025-03-14T22:11:54.815104Z",
     "iopub.status.busy": "2025-03-14T22:11:54.814870Z",
     "iopub.status.idle": "2025-03-14T22:12:51.995416Z",
     "shell.execute_reply": "2025-03-14T22:12:51.994549Z"
    },
    "papermill": {
     "duration": 57.217087,
     "end_time": "2025-03-14T22:12:52.014200",
     "exception": false,
     "start_time": "2025-03-14T22:11:54.797113",
     "status": "completed"
    },
    "tags": []
   },
   "outputs": [
    {
     "name": "stdout",
     "output_type": "stream",
     "text": [
      "DONE!\n"
     ]
    }
   ],
   "source": [
    "bert_model.eval()\n",
    "predictions , true_labels = [], []\n",
    "\n",
    "# Predict \n",
    "for batch in bert_test_dataloader:\n",
    "  batch = tuple(t.to(device) for t in batch)\n",
    "  b_input_ids, b_input_mask, b_labels = batch\n",
    "\n",
    "  with torch.no_grad():\n",
    "      # Forward pass, calculate logit predictions\n",
    "      outputs = bert_model(b_input_ids, token_type_ids=None, \n",
    "                      attention_mask=b_input_mask)\n",
    "\n",
    "  logits = outputs[0]\n",
    "  logits = logits.detach().cpu().numpy()\n",
    "  label_ids = b_labels.to('cpu').numpy()\n",
    "  \n",
    "  predictions.append(logits)\n",
    "  true_labels.append(label_ids)\n",
    "\n",
    "print('DONE!')"
   ]
  },
  {
   "cell_type": "code",
   "execution_count": 30,
   "id": "fb8301c4",
   "metadata": {
    "execution": {
     "iopub.execute_input": "2025-03-14T22:12:52.050273Z",
     "iopub.status.busy": "2025-03-14T22:12:52.049896Z",
     "iopub.status.idle": "2025-03-14T22:12:52.406719Z",
     "shell.execute_reply": "2025-03-14T22:12:52.405996Z"
    },
    "papermill": {
     "duration": 0.375946,
     "end_time": "2025-03-14T22:12:52.407888",
     "exception": false,
     "start_time": "2025-03-14T22:12:52.031942",
     "status": "completed"
    },
    "tags": []
   },
   "outputs": [
    {
     "name": "stdout",
     "output_type": "stream",
     "text": [
      "Calculating Matthews Corr. Coef. for each batch...\n"
     ]
    }
   ],
   "source": [
    "from sklearn.metrics import matthews_corrcoef, confusion_matrix\n",
    "\n",
    "matthews_set = []\n",
    "print('Calculating Matthews Corr. Coef. for each batch...')\n",
    "\n",
    "for i in range(len(true_labels)):\n",
    "  pred_labels_i = np.argmax(predictions[i], axis=1).flatten()\n",
    "  matthews = matthews_corrcoef(true_labels[i], pred_labels_i)                \n",
    "  matthews_set.append(matthews)"
   ]
  },
  {
   "cell_type": "code",
   "execution_count": 31,
   "id": "f8fce01d",
   "metadata": {
    "execution": {
     "iopub.execute_input": "2025-03-14T22:12:52.443000Z",
     "iopub.status.busy": "2025-03-14T22:12:52.442788Z",
     "iopub.status.idle": "2025-03-14T22:12:52.451799Z",
     "shell.execute_reply": "2025-03-14T22:12:52.451024Z"
    },
    "papermill": {
     "duration": 0.027733,
     "end_time": "2025-03-14T22:12:52.452952",
     "exception": false,
     "start_time": "2025-03-14T22:12:52.425219",
     "status": "completed"
    },
    "tags": []
   },
   "outputs": [
    {
     "data": {
      "text/plain": [
       "{'matthews_corrcoef': 0.9529253489025813,\n",
       " 'true positive': 1790,\n",
       " 'ture negative': 1762,\n",
       " 'false positive': 79,\n",
       " 'false negative': 8}"
      ]
     },
     "execution_count": 31,
     "metadata": {},
     "output_type": "execute_result"
    }
   ],
   "source": [
    "# Combine the results across all batches. \n",
    "flat_predictions = np.concatenate(predictions, axis=0)\n",
    "\n",
    "# For each sample, pick the label (0 or 1) with the higher score.\n",
    "flat_predictions = np.argmax(flat_predictions, axis=1).flatten()\n",
    "\n",
    "# Combine the correct labels for each batch into a single list.\n",
    "flat_true_labels = np.concatenate(true_labels, axis=0)\n",
    "\n",
    "def get_eval_report(labels, preds):\n",
    "    mcc = matthews_corrcoef(labels, preds)\n",
    "    tn, fp, fn, tp = confusion_matrix(labels, preds).ravel()\n",
    "    return {\n",
    "        \"matthews_corrcoef\": mcc,\n",
    "        \"true positive\": tp,\n",
    "        \"ture negative\": tn,\n",
    "        \"false positive\": fp,\n",
    "        \"false negative\": fn\n",
    "    }\n",
    "get_eval_report(flat_true_labels, flat_predictions)"
   ]
  },
  {
   "cell_type": "code",
   "execution_count": 32,
   "id": "54c643bc",
   "metadata": {
    "execution": {
     "iopub.execute_input": "2025-03-14T22:12:52.488252Z",
     "iopub.status.busy": "2025-03-14T22:12:52.488025Z",
     "iopub.status.idle": "2025-03-14T22:12:52.498266Z",
     "shell.execute_reply": "2025-03-14T22:12:52.497496Z"
    },
    "papermill": {
     "duration": 0.029054,
     "end_time": "2025-03-14T22:12:52.499460",
     "exception": false,
     "start_time": "2025-03-14T22:12:52.470406",
     "status": "completed"
    },
    "tags": []
   },
   "outputs": [
    {
     "name": "stdout",
     "output_type": "stream",
     "text": [
      "              precision    recall  f1-score   support\n",
      "\n",
      "           0       1.00      0.96      0.98      1841\n",
      "           1       0.96      1.00      0.98      1798\n",
      "\n",
      "    accuracy                           0.98      3639\n",
      "   macro avg       0.98      0.98      0.98      3639\n",
      "weighted avg       0.98      0.98      0.98      3639\n",
      "\n"
     ]
    }
   ],
   "source": [
    "from sklearn.metrics import classification_report \n",
    "\n",
    "print(classification_report(flat_true_labels, flat_predictions))"
   ]
  },
  {
   "cell_type": "code",
   "execution_count": null,
   "id": "a1aadd58",
   "metadata": {
    "papermill": {
     "duration": 0.016901,
     "end_time": "2025-03-14T22:12:52.534018",
     "exception": false,
     "start_time": "2025-03-14T22:12:52.517117",
     "status": "completed"
    },
    "tags": []
   },
   "outputs": [],
   "source": []
  }
 ],
 "metadata": {
  "kaggle": {
   "accelerator": "gpu",
   "dataSources": [
    {
     "datasetId": 3749709,
     "sourceId": 6488923,
     "sourceType": "datasetVersion"
    }
   ],
   "dockerImageVersionId": 30919,
   "isGpuEnabled": true,
   "isInternetEnabled": true,
   "language": "python",
   "sourceType": "notebook"
  },
  "kernelspec": {
   "display_name": "Python 3",
   "language": "python",
   "name": "python3"
  },
  "language_info": {
   "codemirror_mode": {
    "name": "ipython",
    "version": 3
   },
   "file_extension": ".py",
   "mimetype": "text/x-python",
   "name": "python",
   "nbconvert_exporter": "python",
   "pygments_lexer": "ipython3",
   "version": "3.10.12"
  },
  "papermill": {
   "default_parameters": {},
   "duration": 10068.752391,
   "end_time": "2025-03-14T22:12:55.245462",
   "environment_variables": {},
   "exception": null,
   "input_path": "__notebook__.ipynb",
   "output_path": "__notebook__.ipynb",
   "parameters": {},
   "start_time": "2025-03-14T19:25:06.493071",
   "version": "2.6.0"
  },
  "widgets": {
   "application/vnd.jupyter.widget-state+json": {
    "state": {
     "006126a8c0324f7c903089ed16c09d24": {
      "model_module": "@jupyter-widgets/base",
      "model_module_version": "2.0.0",
      "model_name": "LayoutModel",
      "state": {
       "_model_module": "@jupyter-widgets/base",
       "_model_module_version": "2.0.0",
       "_model_name": "LayoutModel",
       "_view_count": null,
       "_view_module": "@jupyter-widgets/base",
       "_view_module_version": "2.0.0",
       "_view_name": "LayoutView",
       "align_content": null,
       "align_items": null,
       "align_self": null,
       "border_bottom": null,
       "border_left": null,
       "border_right": null,
       "border_top": null,
       "bottom": null,
       "display": null,
       "flex": null,
       "flex_flow": null,
       "grid_area": null,
       "grid_auto_columns": null,
       "grid_auto_flow": null,
       "grid_auto_rows": null,
       "grid_column": null,
       "grid_gap": null,
       "grid_row": null,
       "grid_template_areas": null,
       "grid_template_columns": null,
       "grid_template_rows": null,
       "height": null,
       "justify_content": null,
       "justify_items": null,
       "left": null,
       "margin": null,
       "max_height": null,
       "max_width": null,
       "min_height": null,
       "min_width": null,
       "object_fit": null,
       "object_position": null,
       "order": null,
       "overflow": null,
       "padding": null,
       "right": null,
       "top": null,
       "visibility": null,
       "width": null
      }
     },
     "00bf0ee0f470474381f948764a7bccdd": {
      "model_module": "@jupyter-widgets/controls",
      "model_module_version": "2.0.0",
      "model_name": "HTMLModel",
      "state": {
       "_dom_classes": [],
       "_model_module": "@jupyter-widgets/controls",
       "_model_module_version": "2.0.0",
       "_model_name": "HTMLModel",
       "_view_count": null,
       "_view_module": "@jupyter-widgets/controls",
       "_view_module_version": "2.0.0",
       "_view_name": "HTMLView",
       "description": "",
       "description_allow_html": false,
       "layout": "IPY_MODEL_5b496edd18be4a87aa1f643830c5487b",
       "placeholder": "​",
       "style": "IPY_MODEL_975b307d669d4202a84f7dae7b57ca88",
       "tabbable": null,
       "tooltip": null,
       "value": " 466k/466k [00:00&lt;00:00, 20.9MB/s]"
      }
     },
     "096278004f30495a8f8613e5a8113ad7": {
      "model_module": "@jupyter-widgets/controls",
      "model_module_version": "2.0.0",
      "model_name": "ProgressStyleModel",
      "state": {
       "_model_module": "@jupyter-widgets/controls",
       "_model_module_version": "2.0.0",
       "_model_name": "ProgressStyleModel",
       "_view_count": null,
       "_view_module": "@jupyter-widgets/base",
       "_view_module_version": "2.0.0",
       "_view_name": "StyleView",
       "bar_color": null,
       "description_width": ""
      }
     },
     "107646dd66c649f8b517e0dc1ef18186": {
      "model_module": "@jupyter-widgets/controls",
      "model_module_version": "2.0.0",
      "model_name": "HTMLStyleModel",
      "state": {
       "_model_module": "@jupyter-widgets/controls",
       "_model_module_version": "2.0.0",
       "_model_name": "HTMLStyleModel",
       "_view_count": null,
       "_view_module": "@jupyter-widgets/base",
       "_view_module_version": "2.0.0",
       "_view_name": "StyleView",
       "background": null,
       "description_width": "",
       "font_size": null,
       "text_color": null
      }
     },
     "1267709686864917901ee6c95b458fca": {
      "model_module": "@jupyter-widgets/base",
      "model_module_version": "2.0.0",
      "model_name": "LayoutModel",
      "state": {
       "_model_module": "@jupyter-widgets/base",
       "_model_module_version": "2.0.0",
       "_model_name": "LayoutModel",
       "_view_count": null,
       "_view_module": "@jupyter-widgets/base",
       "_view_module_version": "2.0.0",
       "_view_name": "LayoutView",
       "align_content": null,
       "align_items": null,
       "align_self": null,
       "border_bottom": null,
       "border_left": null,
       "border_right": null,
       "border_top": null,
       "bottom": null,
       "display": null,
       "flex": null,
       "flex_flow": null,
       "grid_area": null,
       "grid_auto_columns": null,
       "grid_auto_flow": null,
       "grid_auto_rows": null,
       "grid_column": null,
       "grid_gap": null,
       "grid_row": null,
       "grid_template_areas": null,
       "grid_template_columns": null,
       "grid_template_rows": null,
       "height": null,
       "justify_content": null,
       "justify_items": null,
       "left": null,
       "margin": null,
       "max_height": null,
       "max_width": null,
       "min_height": null,
       "min_width": null,
       "object_fit": null,
       "object_position": null,
       "order": null,
       "overflow": null,
       "padding": null,
       "right": null,
       "top": null,
       "visibility": null,
       "width": null
      }
     },
     "1e9fb6c645ac4b12ade1b6754cbd3af5": {
      "model_module": "@jupyter-widgets/base",
      "model_module_version": "2.0.0",
      "model_name": "LayoutModel",
      "state": {
       "_model_module": "@jupyter-widgets/base",
       "_model_module_version": "2.0.0",
       "_model_name": "LayoutModel",
       "_view_count": null,
       "_view_module": "@jupyter-widgets/base",
       "_view_module_version": "2.0.0",
       "_view_name": "LayoutView",
       "align_content": null,
       "align_items": null,
       "align_self": null,
       "border_bottom": null,
       "border_left": null,
       "border_right": null,
       "border_top": null,
       "bottom": null,
       "display": null,
       "flex": null,
       "flex_flow": null,
       "grid_area": null,
       "grid_auto_columns": null,
       "grid_auto_flow": null,
       "grid_auto_rows": null,
       "grid_column": null,
       "grid_gap": null,
       "grid_row": null,
       "grid_template_areas": null,
       "grid_template_columns": null,
       "grid_template_rows": null,
       "height": null,
       "justify_content": null,
       "justify_items": null,
       "left": null,
       "margin": null,
       "max_height": null,
       "max_width": null,
       "min_height": null,
       "min_width": null,
       "object_fit": null,
       "object_position": null,
       "order": null,
       "overflow": null,
       "padding": null,
       "right": null,
       "top": null,
       "visibility": null,
       "width": null
      }
     },
     "1ed4823b29844146b463520cfa67f9f1": {
      "model_module": "@jupyter-widgets/base",
      "model_module_version": "2.0.0",
      "model_name": "LayoutModel",
      "state": {
       "_model_module": "@jupyter-widgets/base",
       "_model_module_version": "2.0.0",
       "_model_name": "LayoutModel",
       "_view_count": null,
       "_view_module": "@jupyter-widgets/base",
       "_view_module_version": "2.0.0",
       "_view_name": "LayoutView",
       "align_content": null,
       "align_items": null,
       "align_self": null,
       "border_bottom": null,
       "border_left": null,
       "border_right": null,
       "border_top": null,
       "bottom": null,
       "display": null,
       "flex": null,
       "flex_flow": null,
       "grid_area": null,
       "grid_auto_columns": null,
       "grid_auto_flow": null,
       "grid_auto_rows": null,
       "grid_column": null,
       "grid_gap": null,
       "grid_row": null,
       "grid_template_areas": null,
       "grid_template_columns": null,
       "grid_template_rows": null,
       "height": null,
       "justify_content": null,
       "justify_items": null,
       "left": null,
       "margin": null,
       "max_height": null,
       "max_width": null,
       "min_height": null,
       "min_width": null,
       "object_fit": null,
       "object_position": null,
       "order": null,
       "overflow": null,
       "padding": null,
       "right": null,
       "top": null,
       "visibility": null,
       "width": null
      }
     },
     "20fc5bfb487c405eaa63bed46d521be0": {
      "model_module": "@jupyter-widgets/controls",
      "model_module_version": "2.0.0",
      "model_name": "ProgressStyleModel",
      "state": {
       "_model_module": "@jupyter-widgets/controls",
       "_model_module_version": "2.0.0",
       "_model_name": "ProgressStyleModel",
       "_view_count": null,
       "_view_module": "@jupyter-widgets/base",
       "_view_module_version": "2.0.0",
       "_view_name": "StyleView",
       "bar_color": null,
       "description_width": ""
      }
     },
     "2754f5940be8466a8017aef753866be9": {
      "model_module": "@jupyter-widgets/base",
      "model_module_version": "2.0.0",
      "model_name": "LayoutModel",
      "state": {
       "_model_module": "@jupyter-widgets/base",
       "_model_module_version": "2.0.0",
       "_model_name": "LayoutModel",
       "_view_count": null,
       "_view_module": "@jupyter-widgets/base",
       "_view_module_version": "2.0.0",
       "_view_name": "LayoutView",
       "align_content": null,
       "align_items": null,
       "align_self": null,
       "border_bottom": null,
       "border_left": null,
       "border_right": null,
       "border_top": null,
       "bottom": null,
       "display": null,
       "flex": null,
       "flex_flow": null,
       "grid_area": null,
       "grid_auto_columns": null,
       "grid_auto_flow": null,
       "grid_auto_rows": null,
       "grid_column": null,
       "grid_gap": null,
       "grid_row": null,
       "grid_template_areas": null,
       "grid_template_columns": null,
       "grid_template_rows": null,
       "height": null,
       "justify_content": null,
       "justify_items": null,
       "left": null,
       "margin": null,
       "max_height": null,
       "max_width": null,
       "min_height": null,
       "min_width": null,
       "object_fit": null,
       "object_position": null,
       "order": null,
       "overflow": null,
       "padding": null,
       "right": null,
       "top": null,
       "visibility": null,
       "width": null
      }
     },
     "315994d7e7434bf1bd18d909fcdb0a64": {
      "model_module": "@jupyter-widgets/controls",
      "model_module_version": "2.0.0",
      "model_name": "HTMLModel",
      "state": {
       "_dom_classes": [],
       "_model_module": "@jupyter-widgets/controls",
       "_model_module_version": "2.0.0",
       "_model_name": "HTMLModel",
       "_view_count": null,
       "_view_module": "@jupyter-widgets/controls",
       "_view_module_version": "2.0.0",
       "_view_name": "HTMLView",
       "description": "",
       "description_allow_html": false,
       "layout": "IPY_MODEL_2754f5940be8466a8017aef753866be9",
       "placeholder": "​",
       "style": "IPY_MODEL_a94b536377264b00ac8e3f3f44663d43",
       "tabbable": null,
       "tooltip": null,
       "value": " 440M/440M [00:01&lt;00:00, 237MB/s]"
      }
     },
     "3342c38ebc3448168171eff700853206": {
      "model_module": "@jupyter-widgets/base",
      "model_module_version": "2.0.0",
      "model_name": "LayoutModel",
      "state": {
       "_model_module": "@jupyter-widgets/base",
       "_model_module_version": "2.0.0",
       "_model_name": "LayoutModel",
       "_view_count": null,
       "_view_module": "@jupyter-widgets/base",
       "_view_module_version": "2.0.0",
       "_view_name": "LayoutView",
       "align_content": null,
       "align_items": null,
       "align_self": null,
       "border_bottom": null,
       "border_left": null,
       "border_right": null,
       "border_top": null,
       "bottom": null,
       "display": null,
       "flex": null,
       "flex_flow": null,
       "grid_area": null,
       "grid_auto_columns": null,
       "grid_auto_flow": null,
       "grid_auto_rows": null,
       "grid_column": null,
       "grid_gap": null,
       "grid_row": null,
       "grid_template_areas": null,
       "grid_template_columns": null,
       "grid_template_rows": null,
       "height": null,
       "justify_content": null,
       "justify_items": null,
       "left": null,
       "margin": null,
       "max_height": null,
       "max_width": null,
       "min_height": null,
       "min_width": null,
       "object_fit": null,
       "object_position": null,
       "order": null,
       "overflow": null,
       "padding": null,
       "right": null,
       "top": null,
       "visibility": null,
       "width": null
      }
     },
     "3661e9932d4a485792ea9e5ab08df1b6": {
      "model_module": "@jupyter-widgets/controls",
      "model_module_version": "2.0.0",
      "model_name": "HTMLStyleModel",
      "state": {
       "_model_module": "@jupyter-widgets/controls",
       "_model_module_version": "2.0.0",
       "_model_name": "HTMLStyleModel",
       "_view_count": null,
       "_view_module": "@jupyter-widgets/base",
       "_view_module_version": "2.0.0",
       "_view_name": "StyleView",
       "background": null,
       "description_width": "",
       "font_size": null,
       "text_color": null
      }
     },
     "3dc008a3e16748fc9225a34278265d9f": {
      "model_module": "@jupyter-widgets/base",
      "model_module_version": "2.0.0",
      "model_name": "LayoutModel",
      "state": {
       "_model_module": "@jupyter-widgets/base",
       "_model_module_version": "2.0.0",
       "_model_name": "LayoutModel",
       "_view_count": null,
       "_view_module": "@jupyter-widgets/base",
       "_view_module_version": "2.0.0",
       "_view_name": "LayoutView",
       "align_content": null,
       "align_items": null,
       "align_self": null,
       "border_bottom": null,
       "border_left": null,
       "border_right": null,
       "border_top": null,
       "bottom": null,
       "display": null,
       "flex": null,
       "flex_flow": null,
       "grid_area": null,
       "grid_auto_columns": null,
       "grid_auto_flow": null,
       "grid_auto_rows": null,
       "grid_column": null,
       "grid_gap": null,
       "grid_row": null,
       "grid_template_areas": null,
       "grid_template_columns": null,
       "grid_template_rows": null,
       "height": null,
       "justify_content": null,
       "justify_items": null,
       "left": null,
       "margin": null,
       "max_height": null,
       "max_width": null,
       "min_height": null,
       "min_width": null,
       "object_fit": null,
       "object_position": null,
       "order": null,
       "overflow": null,
       "padding": null,
       "right": null,
       "top": null,
       "visibility": null,
       "width": null
      }
     },
     "42325cb5cfbb4e2e9c5a6e345c613165": {
      "model_module": "@jupyter-widgets/base",
      "model_module_version": "2.0.0",
      "model_name": "LayoutModel",
      "state": {
       "_model_module": "@jupyter-widgets/base",
       "_model_module_version": "2.0.0",
       "_model_name": "LayoutModel",
       "_view_count": null,
       "_view_module": "@jupyter-widgets/base",
       "_view_module_version": "2.0.0",
       "_view_name": "LayoutView",
       "align_content": null,
       "align_items": null,
       "align_self": null,
       "border_bottom": null,
       "border_left": null,
       "border_right": null,
       "border_top": null,
       "bottom": null,
       "display": null,
       "flex": null,
       "flex_flow": null,
       "grid_area": null,
       "grid_auto_columns": null,
       "grid_auto_flow": null,
       "grid_auto_rows": null,
       "grid_column": null,
       "grid_gap": null,
       "grid_row": null,
       "grid_template_areas": null,
       "grid_template_columns": null,
       "grid_template_rows": null,
       "height": null,
       "justify_content": null,
       "justify_items": null,
       "left": null,
       "margin": null,
       "max_height": null,
       "max_width": null,
       "min_height": null,
       "min_width": null,
       "object_fit": null,
       "object_position": null,
       "order": null,
       "overflow": null,
       "padding": null,
       "right": null,
       "top": null,
       "visibility": null,
       "width": null
      }
     },
     "4251618342a741ff804187df3a993e41": {
      "model_module": "@jupyter-widgets/controls",
      "model_module_version": "2.0.0",
      "model_name": "HBoxModel",
      "state": {
       "_dom_classes": [],
       "_model_module": "@jupyter-widgets/controls",
       "_model_module_version": "2.0.0",
       "_model_name": "HBoxModel",
       "_view_count": null,
       "_view_module": "@jupyter-widgets/controls",
       "_view_module_version": "2.0.0",
       "_view_name": "HBoxView",
       "box_style": "",
       "children": [
        "IPY_MODEL_b27c0fdc4f2a4fecbf631275f38d4d47",
        "IPY_MODEL_76f454db1c2144c7aaeb9e6a9af86b49",
        "IPY_MODEL_84b22fca98494c2ba4bfddce02774e80"
       ],
       "layout": "IPY_MODEL_d733763e228240f796049f812c0df04d",
       "tabbable": null,
       "tooltip": null
      }
     },
     "4bc8cf18a18942299a3a3ec5b54e530d": {
      "model_module": "@jupyter-widgets/controls",
      "model_module_version": "2.0.0",
      "model_name": "ProgressStyleModel",
      "state": {
       "_model_module": "@jupyter-widgets/controls",
       "_model_module_version": "2.0.0",
       "_model_name": "ProgressStyleModel",
       "_view_count": null,
       "_view_module": "@jupyter-widgets/base",
       "_view_module_version": "2.0.0",
       "_view_name": "StyleView",
       "bar_color": null,
       "description_width": ""
      }
     },
     "4c55929194cb46f89266bf55ad96cecd": {
      "model_module": "@jupyter-widgets/controls",
      "model_module_version": "2.0.0",
      "model_name": "ProgressStyleModel",
      "state": {
       "_model_module": "@jupyter-widgets/controls",
       "_model_module_version": "2.0.0",
       "_model_name": "ProgressStyleModel",
       "_view_count": null,
       "_view_module": "@jupyter-widgets/base",
       "_view_module_version": "2.0.0",
       "_view_name": "StyleView",
       "bar_color": null,
       "description_width": ""
      }
     },
     "55ac0b3c81a84d4fa2684f2e3b8c9f34": {
      "model_module": "@jupyter-widgets/controls",
      "model_module_version": "2.0.0",
      "model_name": "HTMLModel",
      "state": {
       "_dom_classes": [],
       "_model_module": "@jupyter-widgets/controls",
       "_model_module_version": "2.0.0",
       "_model_name": "HTMLModel",
       "_view_count": null,
       "_view_module": "@jupyter-widgets/controls",
       "_view_module_version": "2.0.0",
       "_view_name": "HTMLView",
       "description": "",
       "description_allow_html": false,
       "layout": "IPY_MODEL_3342c38ebc3448168171eff700853206",
       "placeholder": "​",
       "style": "IPY_MODEL_107646dd66c649f8b517e0dc1ef18186",
       "tabbable": null,
       "tooltip": null,
       "value": " 570/570 [00:00&lt;00:00, 54.5kB/s]"
      }
     },
     "5b496edd18be4a87aa1f643830c5487b": {
      "model_module": "@jupyter-widgets/base",
      "model_module_version": "2.0.0",
      "model_name": "LayoutModel",
      "state": {
       "_model_module": "@jupyter-widgets/base",
       "_model_module_version": "2.0.0",
       "_model_name": "LayoutModel",
       "_view_count": null,
       "_view_module": "@jupyter-widgets/base",
       "_view_module_version": "2.0.0",
       "_view_name": "LayoutView",
       "align_content": null,
       "align_items": null,
       "align_self": null,
       "border_bottom": null,
       "border_left": null,
       "border_right": null,
       "border_top": null,
       "bottom": null,
       "display": null,
       "flex": null,
       "flex_flow": null,
       "grid_area": null,
       "grid_auto_columns": null,
       "grid_auto_flow": null,
       "grid_auto_rows": null,
       "grid_column": null,
       "grid_gap": null,
       "grid_row": null,
       "grid_template_areas": null,
       "grid_template_columns": null,
       "grid_template_rows": null,
       "height": null,
       "justify_content": null,
       "justify_items": null,
       "left": null,
       "margin": null,
       "max_height": null,
       "max_width": null,
       "min_height": null,
       "min_width": null,
       "object_fit": null,
       "object_position": null,
       "order": null,
       "overflow": null,
       "padding": null,
       "right": null,
       "top": null,
       "visibility": null,
       "width": null
      }
     },
     "6112a63109714c2aad79ae74a6545a86": {
      "model_module": "@jupyter-widgets/controls",
      "model_module_version": "2.0.0",
      "model_name": "HTMLStyleModel",
      "state": {
       "_model_module": "@jupyter-widgets/controls",
       "_model_module_version": "2.0.0",
       "_model_name": "HTMLStyleModel",
       "_view_count": null,
       "_view_module": "@jupyter-widgets/base",
       "_view_module_version": "2.0.0",
       "_view_name": "StyleView",
       "background": null,
       "description_width": "",
       "font_size": null,
       "text_color": null
      }
     },
     "64c4ab38d2b84dd489e50cd762989eee": {
      "model_module": "@jupyter-widgets/controls",
      "model_module_version": "2.0.0",
      "model_name": "HTMLStyleModel",
      "state": {
       "_model_module": "@jupyter-widgets/controls",
       "_model_module_version": "2.0.0",
       "_model_name": "HTMLStyleModel",
       "_view_count": null,
       "_view_module": "@jupyter-widgets/base",
       "_view_module_version": "2.0.0",
       "_view_name": "StyleView",
       "background": null,
       "description_width": "",
       "font_size": null,
       "text_color": null
      }
     },
     "67e0bf2bc89d4fbc965302ad03af3832": {
      "model_module": "@jupyter-widgets/base",
      "model_module_version": "2.0.0",
      "model_name": "LayoutModel",
      "state": {
       "_model_module": "@jupyter-widgets/base",
       "_model_module_version": "2.0.0",
       "_model_name": "LayoutModel",
       "_view_count": null,
       "_view_module": "@jupyter-widgets/base",
       "_view_module_version": "2.0.0",
       "_view_name": "LayoutView",
       "align_content": null,
       "align_items": null,
       "align_self": null,
       "border_bottom": null,
       "border_left": null,
       "border_right": null,
       "border_top": null,
       "bottom": null,
       "display": null,
       "flex": null,
       "flex_flow": null,
       "grid_area": null,
       "grid_auto_columns": null,
       "grid_auto_flow": null,
       "grid_auto_rows": null,
       "grid_column": null,
       "grid_gap": null,
       "grid_row": null,
       "grid_template_areas": null,
       "grid_template_columns": null,
       "grid_template_rows": null,
       "height": null,
       "justify_content": null,
       "justify_items": null,
       "left": null,
       "margin": null,
       "max_height": null,
       "max_width": null,
       "min_height": null,
       "min_width": null,
       "object_fit": null,
       "object_position": null,
       "order": null,
       "overflow": null,
       "padding": null,
       "right": null,
       "top": null,
       "visibility": null,
       "width": null
      }
     },
     "72db610913ad4756af09acedd83d469e": {
      "model_module": "@jupyter-widgets/controls",
      "model_module_version": "2.0.0",
      "model_name": "FloatProgressModel",
      "state": {
       "_dom_classes": [],
       "_model_module": "@jupyter-widgets/controls",
       "_model_module_version": "2.0.0",
       "_model_name": "FloatProgressModel",
       "_view_count": null,
       "_view_module": "@jupyter-widgets/controls",
       "_view_module_version": "2.0.0",
       "_view_name": "ProgressView",
       "bar_style": "success",
       "description": "",
       "description_allow_html": false,
       "layout": "IPY_MODEL_1e9fb6c645ac4b12ade1b6754cbd3af5",
       "max": 570.0,
       "min": 0.0,
       "orientation": "horizontal",
       "style": "IPY_MODEL_20fc5bfb487c405eaa63bed46d521be0",
       "tabbable": null,
       "tooltip": null,
       "value": 570.0
      }
     },
     "76f454db1c2144c7aaeb9e6a9af86b49": {
      "model_module": "@jupyter-widgets/controls",
      "model_module_version": "2.0.0",
      "model_name": "FloatProgressModel",
      "state": {
       "_dom_classes": [],
       "_model_module": "@jupyter-widgets/controls",
       "_model_module_version": "2.0.0",
       "_model_name": "FloatProgressModel",
       "_view_count": null,
       "_view_module": "@jupyter-widgets/controls",
       "_view_module_version": "2.0.0",
       "_view_name": "ProgressView",
       "bar_style": "success",
       "description": "",
       "description_allow_html": false,
       "layout": "IPY_MODEL_97ed5ccfc28949f6925dc830ecaa71ed",
       "max": 48.0,
       "min": 0.0,
       "orientation": "horizontal",
       "style": "IPY_MODEL_096278004f30495a8f8613e5a8113ad7",
       "tabbable": null,
       "tooltip": null,
       "value": 48.0
      }
     },
     "7ecb7a7da35844fbb76f933661e0d71e": {
      "model_module": "@jupyter-widgets/base",
      "model_module_version": "2.0.0",
      "model_name": "LayoutModel",
      "state": {
       "_model_module": "@jupyter-widgets/base",
       "_model_module_version": "2.0.0",
       "_model_name": "LayoutModel",
       "_view_count": null,
       "_view_module": "@jupyter-widgets/base",
       "_view_module_version": "2.0.0",
       "_view_name": "LayoutView",
       "align_content": null,
       "align_items": null,
       "align_self": null,
       "border_bottom": null,
       "border_left": null,
       "border_right": null,
       "border_top": null,
       "bottom": null,
       "display": null,
       "flex": null,
       "flex_flow": null,
       "grid_area": null,
       "grid_auto_columns": null,
       "grid_auto_flow": null,
       "grid_auto_rows": null,
       "grid_column": null,
       "grid_gap": null,
       "grid_row": null,
       "grid_template_areas": null,
       "grid_template_columns": null,
       "grid_template_rows": null,
       "height": null,
       "justify_content": null,
       "justify_items": null,
       "left": null,
       "margin": null,
       "max_height": null,
       "max_width": null,
       "min_height": null,
       "min_width": null,
       "object_fit": null,
       "object_position": null,
       "order": null,
       "overflow": null,
       "padding": null,
       "right": null,
       "top": null,
       "visibility": null,
       "width": null
      }
     },
     "84b22fca98494c2ba4bfddce02774e80": {
      "model_module": "@jupyter-widgets/controls",
      "model_module_version": "2.0.0",
      "model_name": "HTMLModel",
      "state": {
       "_dom_classes": [],
       "_model_module": "@jupyter-widgets/controls",
       "_model_module_version": "2.0.0",
       "_model_name": "HTMLModel",
       "_view_count": null,
       "_view_module": "@jupyter-widgets/controls",
       "_view_module_version": "2.0.0",
       "_view_name": "HTMLView",
       "description": "",
       "description_allow_html": false,
       "layout": "IPY_MODEL_3dc008a3e16748fc9225a34278265d9f",
       "placeholder": "​",
       "style": "IPY_MODEL_64c4ab38d2b84dd489e50cd762989eee",
       "tabbable": null,
       "tooltip": null,
       "value": " 48.0/48.0 [00:00&lt;00:00, 5.15kB/s]"
      }
     },
     "85782066780746b988aab4165f457819": {
      "model_module": "@jupyter-widgets/controls",
      "model_module_version": "2.0.0",
      "model_name": "HTMLModel",
      "state": {
       "_dom_classes": [],
       "_model_module": "@jupyter-widgets/controls",
       "_model_module_version": "2.0.0",
       "_model_name": "HTMLModel",
       "_view_count": null,
       "_view_module": "@jupyter-widgets/controls",
       "_view_module_version": "2.0.0",
       "_view_name": "HTMLView",
       "description": "",
       "description_allow_html": false,
       "layout": "IPY_MODEL_892cf006df2c40ba8ea403ef6bb33acf",
       "placeholder": "​",
       "style": "IPY_MODEL_6112a63109714c2aad79ae74a6545a86",
       "tabbable": null,
       "tooltip": null,
       "value": "tokenizer.json: 100%"
      }
     },
     "8614167862744740abffa5b60f6ca52a": {
      "model_module": "@jupyter-widgets/controls",
      "model_module_version": "2.0.0",
      "model_name": "HTMLModel",
      "state": {
       "_dom_classes": [],
       "_model_module": "@jupyter-widgets/controls",
       "_model_module_version": "2.0.0",
       "_model_name": "HTMLModel",
       "_view_count": null,
       "_view_module": "@jupyter-widgets/controls",
       "_view_module_version": "2.0.0",
       "_view_name": "HTMLView",
       "description": "",
       "description_allow_html": false,
       "layout": "IPY_MODEL_e0df941ce3ec410285483fbf2729dc13",
       "placeholder": "​",
       "style": "IPY_MODEL_fa2dca9c44674301b4e3b91fbe5f3839",
       "tabbable": null,
       "tooltip": null,
       "value": "config.json: 100%"
      }
     },
     "892cf006df2c40ba8ea403ef6bb33acf": {
      "model_module": "@jupyter-widgets/base",
      "model_module_version": "2.0.0",
      "model_name": "LayoutModel",
      "state": {
       "_model_module": "@jupyter-widgets/base",
       "_model_module_version": "2.0.0",
       "_model_name": "LayoutModel",
       "_view_count": null,
       "_view_module": "@jupyter-widgets/base",
       "_view_module_version": "2.0.0",
       "_view_name": "LayoutView",
       "align_content": null,
       "align_items": null,
       "align_self": null,
       "border_bottom": null,
       "border_left": null,
       "border_right": null,
       "border_top": null,
       "bottom": null,
       "display": null,
       "flex": null,
       "flex_flow": null,
       "grid_area": null,
       "grid_auto_columns": null,
       "grid_auto_flow": null,
       "grid_auto_rows": null,
       "grid_column": null,
       "grid_gap": null,
       "grid_row": null,
       "grid_template_areas": null,
       "grid_template_columns": null,
       "grid_template_rows": null,
       "height": null,
       "justify_content": null,
       "justify_items": null,
       "left": null,
       "margin": null,
       "max_height": null,
       "max_width": null,
       "min_height": null,
       "min_width": null,
       "object_fit": null,
       "object_position": null,
       "order": null,
       "overflow": null,
       "padding": null,
       "right": null,
       "top": null,
       "visibility": null,
       "width": null
      }
     },
     "8c9d654ccce94d6299437ffe45182e34": {
      "model_module": "@jupyter-widgets/controls",
      "model_module_version": "2.0.0",
      "model_name": "HBoxModel",
      "state": {
       "_dom_classes": [],
       "_model_module": "@jupyter-widgets/controls",
       "_model_module_version": "2.0.0",
       "_model_name": "HBoxModel",
       "_view_count": null,
       "_view_module": "@jupyter-widgets/controls",
       "_view_module_version": "2.0.0",
       "_view_name": "HBoxView",
       "box_style": "",
       "children": [
        "IPY_MODEL_85782066780746b988aab4165f457819",
        "IPY_MODEL_ca1046fe48524f58a2df9f47cfb7c7c8",
        "IPY_MODEL_00bf0ee0f470474381f948764a7bccdd"
       ],
       "layout": "IPY_MODEL_cc4bdff1a4d2474187eaec483f362923",
       "tabbable": null,
       "tooltip": null
      }
     },
     "9518188b54a34dbba0f08b6e336e5a3c": {
      "model_module": "@jupyter-widgets/controls",
      "model_module_version": "2.0.0",
      "model_name": "FloatProgressModel",
      "state": {
       "_dom_classes": [],
       "_model_module": "@jupyter-widgets/controls",
       "_model_module_version": "2.0.0",
       "_model_name": "FloatProgressModel",
       "_view_count": null,
       "_view_module": "@jupyter-widgets/controls",
       "_view_module_version": "2.0.0",
       "_view_name": "ProgressView",
       "bar_style": "success",
       "description": "",
       "description_allow_html": false,
       "layout": "IPY_MODEL_1267709686864917901ee6c95b458fca",
       "max": 440449768.0,
       "min": 0.0,
       "orientation": "horizontal",
       "style": "IPY_MODEL_4bc8cf18a18942299a3a3ec5b54e530d",
       "tabbable": null,
       "tooltip": null,
       "value": 440449768.0
      }
     },
     "975b307d669d4202a84f7dae7b57ca88": {
      "model_module": "@jupyter-widgets/controls",
      "model_module_version": "2.0.0",
      "model_name": "HTMLStyleModel",
      "state": {
       "_model_module": "@jupyter-widgets/controls",
       "_model_module_version": "2.0.0",
       "_model_name": "HTMLStyleModel",
       "_view_count": null,
       "_view_module": "@jupyter-widgets/base",
       "_view_module_version": "2.0.0",
       "_view_name": "StyleView",
       "background": null,
       "description_width": "",
       "font_size": null,
       "text_color": null
      }
     },
     "97ed5ccfc28949f6925dc830ecaa71ed": {
      "model_module": "@jupyter-widgets/base",
      "model_module_version": "2.0.0",
      "model_name": "LayoutModel",
      "state": {
       "_model_module": "@jupyter-widgets/base",
       "_model_module_version": "2.0.0",
       "_model_name": "LayoutModel",
       "_view_count": null,
       "_view_module": "@jupyter-widgets/base",
       "_view_module_version": "2.0.0",
       "_view_name": "LayoutView",
       "align_content": null,
       "align_items": null,
       "align_self": null,
       "border_bottom": null,
       "border_left": null,
       "border_right": null,
       "border_top": null,
       "bottom": null,
       "display": null,
       "flex": null,
       "flex_flow": null,
       "grid_area": null,
       "grid_auto_columns": null,
       "grid_auto_flow": null,
       "grid_auto_rows": null,
       "grid_column": null,
       "grid_gap": null,
       "grid_row": null,
       "grid_template_areas": null,
       "grid_template_columns": null,
       "grid_template_rows": null,
       "height": null,
       "justify_content": null,
       "justify_items": null,
       "left": null,
       "margin": null,
       "max_height": null,
       "max_width": null,
       "min_height": null,
       "min_width": null,
       "object_fit": null,
       "object_position": null,
       "order": null,
       "overflow": null,
       "padding": null,
       "right": null,
       "top": null,
       "visibility": null,
       "width": null
      }
     },
     "a1b808e3be544319b984cef928f4c6ac": {
      "model_module": "@jupyter-widgets/controls",
      "model_module_version": "2.0.0",
      "model_name": "HBoxModel",
      "state": {
       "_dom_classes": [],
       "_model_module": "@jupyter-widgets/controls",
       "_model_module_version": "2.0.0",
       "_model_name": "HBoxModel",
       "_view_count": null,
       "_view_module": "@jupyter-widgets/controls",
       "_view_module_version": "2.0.0",
       "_view_name": "HBoxView",
       "box_style": "",
       "children": [
        "IPY_MODEL_8614167862744740abffa5b60f6ca52a",
        "IPY_MODEL_72db610913ad4756af09acedd83d469e",
        "IPY_MODEL_55ac0b3c81a84d4fa2684f2e3b8c9f34"
       ],
       "layout": "IPY_MODEL_1ed4823b29844146b463520cfa67f9f1",
       "tabbable": null,
       "tooltip": null
      }
     },
     "a94b536377264b00ac8e3f3f44663d43": {
      "model_module": "@jupyter-widgets/controls",
      "model_module_version": "2.0.0",
      "model_name": "HTMLStyleModel",
      "state": {
       "_model_module": "@jupyter-widgets/controls",
       "_model_module_version": "2.0.0",
       "_model_name": "HTMLStyleModel",
       "_view_count": null,
       "_view_module": "@jupyter-widgets/base",
       "_view_module_version": "2.0.0",
       "_view_name": "StyleView",
       "background": null,
       "description_width": "",
       "font_size": null,
       "text_color": null
      }
     },
     "ac78a08fec604ccc9a7333b69e861db8": {
      "model_module": "@jupyter-widgets/base",
      "model_module_version": "2.0.0",
      "model_name": "LayoutModel",
      "state": {
       "_model_module": "@jupyter-widgets/base",
       "_model_module_version": "2.0.0",
       "_model_name": "LayoutModel",
       "_view_count": null,
       "_view_module": "@jupyter-widgets/base",
       "_view_module_version": "2.0.0",
       "_view_name": "LayoutView",
       "align_content": null,
       "align_items": null,
       "align_self": null,
       "border_bottom": null,
       "border_left": null,
       "border_right": null,
       "border_top": null,
       "bottom": null,
       "display": null,
       "flex": null,
       "flex_flow": null,
       "grid_area": null,
       "grid_auto_columns": null,
       "grid_auto_flow": null,
       "grid_auto_rows": null,
       "grid_column": null,
       "grid_gap": null,
       "grid_row": null,
       "grid_template_areas": null,
       "grid_template_columns": null,
       "grid_template_rows": null,
       "height": null,
       "justify_content": null,
       "justify_items": null,
       "left": null,
       "margin": null,
       "max_height": null,
       "max_width": null,
       "min_height": null,
       "min_width": null,
       "object_fit": null,
       "object_position": null,
       "order": null,
       "overflow": null,
       "padding": null,
       "right": null,
       "top": null,
       "visibility": null,
       "width": null
      }
     },
     "adefa1cab553489e932ad01295998ad0": {
      "model_module": "@jupyter-widgets/controls",
      "model_module_version": "2.0.0",
      "model_name": "HTMLModel",
      "state": {
       "_dom_classes": [],
       "_model_module": "@jupyter-widgets/controls",
       "_model_module_version": "2.0.0",
       "_model_name": "HTMLModel",
       "_view_count": null,
       "_view_module": "@jupyter-widgets/controls",
       "_view_module_version": "2.0.0",
       "_view_name": "HTMLView",
       "description": "",
       "description_allow_html": false,
       "layout": "IPY_MODEL_7ecb7a7da35844fbb76f933661e0d71e",
       "placeholder": "​",
       "style": "IPY_MODEL_3661e9932d4a485792ea9e5ab08df1b6",
       "tabbable": null,
       "tooltip": null,
       "value": "model.safetensors: 100%"
      }
     },
     "b27c0fdc4f2a4fecbf631275f38d4d47": {
      "model_module": "@jupyter-widgets/controls",
      "model_module_version": "2.0.0",
      "model_name": "HTMLModel",
      "state": {
       "_dom_classes": [],
       "_model_module": "@jupyter-widgets/controls",
       "_model_module_version": "2.0.0",
       "_model_name": "HTMLModel",
       "_view_count": null,
       "_view_module": "@jupyter-widgets/controls",
       "_view_module_version": "2.0.0",
       "_view_name": "HTMLView",
       "description": "",
       "description_allow_html": false,
       "layout": "IPY_MODEL_67e0bf2bc89d4fbc965302ad03af3832",
       "placeholder": "​",
       "style": "IPY_MODEL_f1ca2031c69a410da492bd1fbefab2f0",
       "tabbable": null,
       "tooltip": null,
       "value": "tokenizer_config.json: 100%"
      }
     },
     "b3bcd8d11ed1447b93db678b9d5dc7b5": {
      "model_module": "@jupyter-widgets/base",
      "model_module_version": "2.0.0",
      "model_name": "LayoutModel",
      "state": {
       "_model_module": "@jupyter-widgets/base",
       "_model_module_version": "2.0.0",
       "_model_name": "LayoutModel",
       "_view_count": null,
       "_view_module": "@jupyter-widgets/base",
       "_view_module_version": "2.0.0",
       "_view_name": "LayoutView",
       "align_content": null,
       "align_items": null,
       "align_self": null,
       "border_bottom": null,
       "border_left": null,
       "border_right": null,
       "border_top": null,
       "bottom": null,
       "display": null,
       "flex": null,
       "flex_flow": null,
       "grid_area": null,
       "grid_auto_columns": null,
       "grid_auto_flow": null,
       "grid_auto_rows": null,
       "grid_column": null,
       "grid_gap": null,
       "grid_row": null,
       "grid_template_areas": null,
       "grid_template_columns": null,
       "grid_template_rows": null,
       "height": null,
       "justify_content": null,
       "justify_items": null,
       "left": null,
       "margin": null,
       "max_height": null,
       "max_width": null,
       "min_height": null,
       "min_width": null,
       "object_fit": null,
       "object_position": null,
       "order": null,
       "overflow": null,
       "padding": null,
       "right": null,
       "top": null,
       "visibility": null,
       "width": null
      }
     },
     "c0504f60d2e14e40b42a7a135f696e25": {
      "model_module": "@jupyter-widgets/controls",
      "model_module_version": "2.0.0",
      "model_name": "ProgressStyleModel",
      "state": {
       "_model_module": "@jupyter-widgets/controls",
       "_model_module_version": "2.0.0",
       "_model_name": "ProgressStyleModel",
       "_view_count": null,
       "_view_module": "@jupyter-widgets/base",
       "_view_module_version": "2.0.0",
       "_view_name": "StyleView",
       "bar_color": null,
       "description_width": ""
      }
     },
     "ca1046fe48524f58a2df9f47cfb7c7c8": {
      "model_module": "@jupyter-widgets/controls",
      "model_module_version": "2.0.0",
      "model_name": "FloatProgressModel",
      "state": {
       "_dom_classes": [],
       "_model_module": "@jupyter-widgets/controls",
       "_model_module_version": "2.0.0",
       "_model_name": "FloatProgressModel",
       "_view_count": null,
       "_view_module": "@jupyter-widgets/controls",
       "_view_module_version": "2.0.0",
       "_view_name": "ProgressView",
       "bar_style": "success",
       "description": "",
       "description_allow_html": false,
       "layout": "IPY_MODEL_b3bcd8d11ed1447b93db678b9d5dc7b5",
       "max": 466062.0,
       "min": 0.0,
       "orientation": "horizontal",
       "style": "IPY_MODEL_c0504f60d2e14e40b42a7a135f696e25",
       "tabbable": null,
       "tooltip": null,
       "value": 466062.0
      }
     },
     "cc4bdff1a4d2474187eaec483f362923": {
      "model_module": "@jupyter-widgets/base",
      "model_module_version": "2.0.0",
      "model_name": "LayoutModel",
      "state": {
       "_model_module": "@jupyter-widgets/base",
       "_model_module_version": "2.0.0",
       "_model_name": "LayoutModel",
       "_view_count": null,
       "_view_module": "@jupyter-widgets/base",
       "_view_module_version": "2.0.0",
       "_view_name": "LayoutView",
       "align_content": null,
       "align_items": null,
       "align_self": null,
       "border_bottom": null,
       "border_left": null,
       "border_right": null,
       "border_top": null,
       "bottom": null,
       "display": null,
       "flex": null,
       "flex_flow": null,
       "grid_area": null,
       "grid_auto_columns": null,
       "grid_auto_flow": null,
       "grid_auto_rows": null,
       "grid_column": null,
       "grid_gap": null,
       "grid_row": null,
       "grid_template_areas": null,
       "grid_template_columns": null,
       "grid_template_rows": null,
       "height": null,
       "justify_content": null,
       "justify_items": null,
       "left": null,
       "margin": null,
       "max_height": null,
       "max_width": null,
       "min_height": null,
       "min_width": null,
       "object_fit": null,
       "object_position": null,
       "order": null,
       "overflow": null,
       "padding": null,
       "right": null,
       "top": null,
       "visibility": null,
       "width": null
      }
     },
     "d67e43db9c4043d7b867dc3d6392f7bc": {
      "model_module": "@jupyter-widgets/controls",
      "model_module_version": "2.0.0",
      "model_name": "HTMLModel",
      "state": {
       "_dom_classes": [],
       "_model_module": "@jupyter-widgets/controls",
       "_model_module_version": "2.0.0",
       "_model_name": "HTMLModel",
       "_view_count": null,
       "_view_module": "@jupyter-widgets/controls",
       "_view_module_version": "2.0.0",
       "_view_name": "HTMLView",
       "description": "",
       "description_allow_html": false,
       "layout": "IPY_MODEL_006126a8c0324f7c903089ed16c09d24",
       "placeholder": "​",
       "style": "IPY_MODEL_f9a2799e347f48a5babd4ceee72de1cc",
       "tabbable": null,
       "tooltip": null,
       "value": " 232k/232k [00:00&lt;00:00, 5.59MB/s]"
      }
     },
     "d733763e228240f796049f812c0df04d": {
      "model_module": "@jupyter-widgets/base",
      "model_module_version": "2.0.0",
      "model_name": "LayoutModel",
      "state": {
       "_model_module": "@jupyter-widgets/base",
       "_model_module_version": "2.0.0",
       "_model_name": "LayoutModel",
       "_view_count": null,
       "_view_module": "@jupyter-widgets/base",
       "_view_module_version": "2.0.0",
       "_view_name": "LayoutView",
       "align_content": null,
       "align_items": null,
       "align_self": null,
       "border_bottom": null,
       "border_left": null,
       "border_right": null,
       "border_top": null,
       "bottom": null,
       "display": null,
       "flex": null,
       "flex_flow": null,
       "grid_area": null,
       "grid_auto_columns": null,
       "grid_auto_flow": null,
       "grid_auto_rows": null,
       "grid_column": null,
       "grid_gap": null,
       "grid_row": null,
       "grid_template_areas": null,
       "grid_template_columns": null,
       "grid_template_rows": null,
       "height": null,
       "justify_content": null,
       "justify_items": null,
       "left": null,
       "margin": null,
       "max_height": null,
       "max_width": null,
       "min_height": null,
       "min_width": null,
       "object_fit": null,
       "object_position": null,
       "order": null,
       "overflow": null,
       "padding": null,
       "right": null,
       "top": null,
       "visibility": null,
       "width": null
      }
     },
     "d9e270fa23024d208f1fc2742b173fe2": {
      "model_module": "@jupyter-widgets/controls",
      "model_module_version": "2.0.0",
      "model_name": "HTMLModel",
      "state": {
       "_dom_classes": [],
       "_model_module": "@jupyter-widgets/controls",
       "_model_module_version": "2.0.0",
       "_model_name": "HTMLModel",
       "_view_count": null,
       "_view_module": "@jupyter-widgets/controls",
       "_view_module_version": "2.0.0",
       "_view_name": "HTMLView",
       "description": "",
       "description_allow_html": false,
       "layout": "IPY_MODEL_ac78a08fec604ccc9a7333b69e861db8",
       "placeholder": "​",
       "style": "IPY_MODEL_fda6812a94264269b7105538a0ef81f7",
       "tabbable": null,
       "tooltip": null,
       "value": "vocab.txt: 100%"
      }
     },
     "e0df941ce3ec410285483fbf2729dc13": {
      "model_module": "@jupyter-widgets/base",
      "model_module_version": "2.0.0",
      "model_name": "LayoutModel",
      "state": {
       "_model_module": "@jupyter-widgets/base",
       "_model_module_version": "2.0.0",
       "_model_name": "LayoutModel",
       "_view_count": null,
       "_view_module": "@jupyter-widgets/base",
       "_view_module_version": "2.0.0",
       "_view_name": "LayoutView",
       "align_content": null,
       "align_items": null,
       "align_self": null,
       "border_bottom": null,
       "border_left": null,
       "border_right": null,
       "border_top": null,
       "bottom": null,
       "display": null,
       "flex": null,
       "flex_flow": null,
       "grid_area": null,
       "grid_auto_columns": null,
       "grid_auto_flow": null,
       "grid_auto_rows": null,
       "grid_column": null,
       "grid_gap": null,
       "grid_row": null,
       "grid_template_areas": null,
       "grid_template_columns": null,
       "grid_template_rows": null,
       "height": null,
       "justify_content": null,
       "justify_items": null,
       "left": null,
       "margin": null,
       "max_height": null,
       "max_width": null,
       "min_height": null,
       "min_width": null,
       "object_fit": null,
       "object_position": null,
       "order": null,
       "overflow": null,
       "padding": null,
       "right": null,
       "top": null,
       "visibility": null,
       "width": null
      }
     },
     "e4f43ff0cbb84aa4b4855045c8760609": {
      "model_module": "@jupyter-widgets/controls",
      "model_module_version": "2.0.0",
      "model_name": "HBoxModel",
      "state": {
       "_dom_classes": [],
       "_model_module": "@jupyter-widgets/controls",
       "_model_module_version": "2.0.0",
       "_model_name": "HBoxModel",
       "_view_count": null,
       "_view_module": "@jupyter-widgets/controls",
       "_view_module_version": "2.0.0",
       "_view_name": "HBoxView",
       "box_style": "",
       "children": [
        "IPY_MODEL_adefa1cab553489e932ad01295998ad0",
        "IPY_MODEL_9518188b54a34dbba0f08b6e336e5a3c",
        "IPY_MODEL_315994d7e7434bf1bd18d909fcdb0a64"
       ],
       "layout": "IPY_MODEL_f31256f2751b44ee80d7bd7660878759",
       "tabbable": null,
       "tooltip": null
      }
     },
     "e70907fe321e460fa270b085ac0f41f6": {
      "model_module": "@jupyter-widgets/controls",
      "model_module_version": "2.0.0",
      "model_name": "HBoxModel",
      "state": {
       "_dom_classes": [],
       "_model_module": "@jupyter-widgets/controls",
       "_model_module_version": "2.0.0",
       "_model_name": "HBoxModel",
       "_view_count": null,
       "_view_module": "@jupyter-widgets/controls",
       "_view_module_version": "2.0.0",
       "_view_name": "HBoxView",
       "box_style": "",
       "children": [
        "IPY_MODEL_d9e270fa23024d208f1fc2742b173fe2",
        "IPY_MODEL_e733e58132374ddc9010458dcb98cfdf",
        "IPY_MODEL_d67e43db9c4043d7b867dc3d6392f7bc"
       ],
       "layout": "IPY_MODEL_eae77863937f44f79abaa980d17704ec",
       "tabbable": null,
       "tooltip": null
      }
     },
     "e733e58132374ddc9010458dcb98cfdf": {
      "model_module": "@jupyter-widgets/controls",
      "model_module_version": "2.0.0",
      "model_name": "FloatProgressModel",
      "state": {
       "_dom_classes": [],
       "_model_module": "@jupyter-widgets/controls",
       "_model_module_version": "2.0.0",
       "_model_name": "FloatProgressModel",
       "_view_count": null,
       "_view_module": "@jupyter-widgets/controls",
       "_view_module_version": "2.0.0",
       "_view_name": "ProgressView",
       "bar_style": "success",
       "description": "",
       "description_allow_html": false,
       "layout": "IPY_MODEL_42325cb5cfbb4e2e9c5a6e345c613165",
       "max": 231508.0,
       "min": 0.0,
       "orientation": "horizontal",
       "style": "IPY_MODEL_4c55929194cb46f89266bf55ad96cecd",
       "tabbable": null,
       "tooltip": null,
       "value": 231508.0
      }
     },
     "eae77863937f44f79abaa980d17704ec": {
      "model_module": "@jupyter-widgets/base",
      "model_module_version": "2.0.0",
      "model_name": "LayoutModel",
      "state": {
       "_model_module": "@jupyter-widgets/base",
       "_model_module_version": "2.0.0",
       "_model_name": "LayoutModel",
       "_view_count": null,
       "_view_module": "@jupyter-widgets/base",
       "_view_module_version": "2.0.0",
       "_view_name": "LayoutView",
       "align_content": null,
       "align_items": null,
       "align_self": null,
       "border_bottom": null,
       "border_left": null,
       "border_right": null,
       "border_top": null,
       "bottom": null,
       "display": null,
       "flex": null,
       "flex_flow": null,
       "grid_area": null,
       "grid_auto_columns": null,
       "grid_auto_flow": null,
       "grid_auto_rows": null,
       "grid_column": null,
       "grid_gap": null,
       "grid_row": null,
       "grid_template_areas": null,
       "grid_template_columns": null,
       "grid_template_rows": null,
       "height": null,
       "justify_content": null,
       "justify_items": null,
       "left": null,
       "margin": null,
       "max_height": null,
       "max_width": null,
       "min_height": null,
       "min_width": null,
       "object_fit": null,
       "object_position": null,
       "order": null,
       "overflow": null,
       "padding": null,
       "right": null,
       "top": null,
       "visibility": null,
       "width": null
      }
     },
     "f1ca2031c69a410da492bd1fbefab2f0": {
      "model_module": "@jupyter-widgets/controls",
      "model_module_version": "2.0.0",
      "model_name": "HTMLStyleModel",
      "state": {
       "_model_module": "@jupyter-widgets/controls",
       "_model_module_version": "2.0.0",
       "_model_name": "HTMLStyleModel",
       "_view_count": null,
       "_view_module": "@jupyter-widgets/base",
       "_view_module_version": "2.0.0",
       "_view_name": "StyleView",
       "background": null,
       "description_width": "",
       "font_size": null,
       "text_color": null
      }
     },
     "f31256f2751b44ee80d7bd7660878759": {
      "model_module": "@jupyter-widgets/base",
      "model_module_version": "2.0.0",
      "model_name": "LayoutModel",
      "state": {
       "_model_module": "@jupyter-widgets/base",
       "_model_module_version": "2.0.0",
       "_model_name": "LayoutModel",
       "_view_count": null,
       "_view_module": "@jupyter-widgets/base",
       "_view_module_version": "2.0.0",
       "_view_name": "LayoutView",
       "align_content": null,
       "align_items": null,
       "align_self": null,
       "border_bottom": null,
       "border_left": null,
       "border_right": null,
       "border_top": null,
       "bottom": null,
       "display": null,
       "flex": null,
       "flex_flow": null,
       "grid_area": null,
       "grid_auto_columns": null,
       "grid_auto_flow": null,
       "grid_auto_rows": null,
       "grid_column": null,
       "grid_gap": null,
       "grid_row": null,
       "grid_template_areas": null,
       "grid_template_columns": null,
       "grid_template_rows": null,
       "height": null,
       "justify_content": null,
       "justify_items": null,
       "left": null,
       "margin": null,
       "max_height": null,
       "max_width": null,
       "min_height": null,
       "min_width": null,
       "object_fit": null,
       "object_position": null,
       "order": null,
       "overflow": null,
       "padding": null,
       "right": null,
       "top": null,
       "visibility": null,
       "width": null
      }
     },
     "f9a2799e347f48a5babd4ceee72de1cc": {
      "model_module": "@jupyter-widgets/controls",
      "model_module_version": "2.0.0",
      "model_name": "HTMLStyleModel",
      "state": {
       "_model_module": "@jupyter-widgets/controls",
       "_model_module_version": "2.0.0",
       "_model_name": "HTMLStyleModel",
       "_view_count": null,
       "_view_module": "@jupyter-widgets/base",
       "_view_module_version": "2.0.0",
       "_view_name": "StyleView",
       "background": null,
       "description_width": "",
       "font_size": null,
       "text_color": null
      }
     },
     "fa2dca9c44674301b4e3b91fbe5f3839": {
      "model_module": "@jupyter-widgets/controls",
      "model_module_version": "2.0.0",
      "model_name": "HTMLStyleModel",
      "state": {
       "_model_module": "@jupyter-widgets/controls",
       "_model_module_version": "2.0.0",
       "_model_name": "HTMLStyleModel",
       "_view_count": null,
       "_view_module": "@jupyter-widgets/base",
       "_view_module_version": "2.0.0",
       "_view_name": "StyleView",
       "background": null,
       "description_width": "",
       "font_size": null,
       "text_color": null
      }
     },
     "fda6812a94264269b7105538a0ef81f7": {
      "model_module": "@jupyter-widgets/controls",
      "model_module_version": "2.0.0",
      "model_name": "HTMLStyleModel",
      "state": {
       "_model_module": "@jupyter-widgets/controls",
       "_model_module_version": "2.0.0",
       "_model_name": "HTMLStyleModel",
       "_view_count": null,
       "_view_module": "@jupyter-widgets/base",
       "_view_module_version": "2.0.0",
       "_view_name": "StyleView",
       "background": null,
       "description_width": "",
       "font_size": null,
       "text_color": null
      }
     }
    },
    "version_major": 2,
    "version_minor": 0
   }
  }
 },
 "nbformat": 4,
 "nbformat_minor": 5
}
